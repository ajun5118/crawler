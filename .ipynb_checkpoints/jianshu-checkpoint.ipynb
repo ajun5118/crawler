{
 "cells": [
  {
   "cell_type": "code",
   "execution_count": 3,
   "metadata": {
    "collapsed": true
   },
   "outputs": [],
   "source": [
    "import requests\n",
    "from bs4 import BeautifulSoup\n",
    "import time\n",
    "import pandas as pd\n"
   ]
  },
  {
   "cell_type": "code",
   "execution_count": 4,
   "metadata": {
    "collapsed": false
   },
   "outputs": [],
   "source": [
    "import pdfkit\n",
    "import PyPDF2"
   ]
  },
  {
   "cell_type": "code",
   "execution_count": 26,
   "metadata": {
    "collapsed": false
   },
   "outputs": [],
   "source": [
    "from PyPDF2 import PdfFileReader,PdfFileWriter"
   ]
  },
  {
   "cell_type": "code",
   "execution_count": 5,
   "metadata": {
    "collapsed": true
   },
   "outputs": [],
   "source": [
    "from os import path"
   ]
  },
  {
   "cell_type": "code",
   "execution_count": 6,
   "metadata": {
    "collapsed": true
   },
   "outputs": [],
   "source": [
    "import time"
   ]
  },
  {
   "cell_type": "code",
   "execution_count": 7,
   "metadata": {
    "collapsed": false
   },
   "outputs": [],
   "source": [
    "save_fold = r'e:\\test'"
   ]
  },
  {
   "cell_type": "code",
   "execution_count": 8,
   "metadata": {
    "collapsed": true
   },
   "outputs": [],
   "source": [
    "out_file = r'e:\\test\\1.pdf'"
   ]
  },
  {
   "cell_type": "code",
   "execution_count": 9,
   "metadata": {
    "collapsed": true
   },
   "outputs": [],
   "source": [
    "headers = {\"User-Agent\":\"Mozilla/5.0 (Windows NT 10.0; Win64; x64) AppleWebKit/537.36 (KHTML, like Gecko) Chrome/53.0.2785.101 Safari/537.36\"}"
   ]
  },
  {
   "cell_type": "code",
   "execution_count": 10,
   "metadata": {
    "collapsed": true
   },
   "outputs": [],
   "source": [
    "url = \"https://www.jianshu.com/p/fb6719a18cea\""
   ]
  },
  {
   "cell_type": "code",
   "execution_count": 11,
   "metadata": {
    "collapsed": true
   },
   "outputs": [],
   "source": [
    "info_last = {'title':' 附录B 更多关于IPython的内容（完）','url':url}"
   ]
  },
  {
   "cell_type": "code",
   "execution_count": 12,
   "metadata": {
    "collapsed": true
   },
   "outputs": [],
   "source": [
    "html_template = '''\n",
    "<!DOCTYPE html>\n",
    "<html lang = 'en'>\n",
    "<head>\n",
    "    <meta charset = 'UTF-8'>\n",
    "</head>\n",
    "<body>\n",
    "{content}\n",
    "</body>\n",
    "</html>\n",
    "'''"
   ]
  },
  {
   "cell_type": "code",
   "execution_count": 13,
   "metadata": {
    "collapsed": true
   },
   "outputs": [],
   "source": [
    "options = {  \n",
    "        'page-size': 'Letter',  \n",
    "        'margin-top': '0.75in',  \n",
    "        'margin-right': '0.75in',  \n",
    "        'margin-bottom': '0.75in',  \n",
    "        'margin-left': '0.75in',  \n",
    "        'encoding': \"UTF-8\",  \n",
    "        'custom-header': [  \n",
    "            ('Accept-Encoding', 'gzip')  \n",
    "        ],  \n",
    "        'cookie': [  \n",
    "            ('cookie-name1', 'cookie-value1'),  \n",
    "            ('cookie-name2', 'cookie-value2'),  \n",
    "        ],  \n",
    "        'outline-depth': 10,  \n",
    "    }\n",
    "\n"
   ]
  },
  {
   "cell_type": "code",
   "execution_count": 23,
   "metadata": {
    "collapsed": true
   },
   "outputs": [],
   "source": [
    "def generate_url(url_html):\n",
    "    charter_info = []\n",
    "    bsj = BeautifulSoup(url_html.text,'lxml')\n",
    "    url_list = bsj.select('div.show-content-free a')\n",
    "    for url in url_list[:15]:\n",
    "        info = {}\n",
    "        info['title'] =str(url.string)\n",
    "        info['url'] = url['href']\n",
    "        charter_info.append(info)\n",
    "    charter_info.append(info_last)\n",
    "    return charter_info"
   ]
  },
  {
   "cell_type": "code",
   "execution_count": 15,
   "metadata": {
    "collapsed": true
   },
   "outputs": [],
   "source": [
    "def get_html(url):\n",
    "    try:\n",
    "        html = requests.get(url,headers = headers)\n",
    "    except:\n",
    "        print('fail:',url)\n",
    "    return html"
   ]
  },
  {
   "cell_type": "code",
   "execution_count": 16,
   "metadata": {
    "collapsed": true
   },
   "outputs": [],
   "source": [
    "def get_content(html):\n",
    "    bsj = BeautifulSoup(html.text,'lxml')\n",
    "    bsj = bsj.select('div.show-content-free')\n",
    "    bsj = bsj[0]\n",
    "    bsj_a = bsj.select('a[href*=www.jianshu.com]')\n",
    "    bsj_a[0].parent.decompose()\n",
    "    bsj_a[-1].parent.decompose()\n",
    "    html_content = html_template.format(content = bsj)\n",
    "    return html_content"
   ]
  },
  {
   "cell_type": "code",
   "execution_count": 17,
   "metadata": {
    "collapsed": true
   },
   "outputs": [],
   "source": [
    "def save_pdf(html,filename):\n",
    "    pdfkit.from_string(html,filename,options)"
   ]
  },
  {
   "cell_type": "code",
   "execution_count": 18,
   "metadata": {
    "collapsed": true
   },
   "outputs": [],
   "source": [
    "def merge_pdf(infnList, outfn):\n",
    "    pages_total = 0\n",
    "    pdf_output = PdfFileWriter()\n",
    "    for infn in infnList:\n",
    "        pdf_input = PdfFileReader(open(infn['filename'], 'rb'),strict = False)\n",
    "        # 获取 pdf 共用多少页\n",
    "        page_count = pdf_input.getNumPages()\n",
    "        \n",
    "        print(page_count)\n",
    "        for i in range(page_count):\n",
    "            pdf_output.addPage(pdf_input.getPage(i))\n",
    "        pdf_output.addBookmark(infn['title'],pagenum = pages_total)\n",
    "        pages_total += page_count\n",
    "    pdf_output.write(open(outfn, 'wb'))\n"
   ]
  },
  {
   "cell_type": "code",
   "execution_count": 27,
   "metadata": {
    "collapsed": true
   },
   "outputs": [],
   "source": [
    "def main():\n",
    "    infnList = []\n",
    "    html = requests.get(url,headers = headers)\n",
    "    charter_info = generate_url(html)\n",
    "    for charter in charter_info:\n",
    "        html = get_html(charter['url'])\n",
    "        time.sleep(2)\n",
    "        content = get_content(html)\n",
    "        filename = path.join(save_fold,charter['title'] + '.pdf')\n",
    "        save_pdf(content,filename)\n",
    "    for chart in charter_info:\n",
    "        infn = {'bookmark':chart['title'],'filename':path.join(save_fold,charter['title']+\n",
    "                                                              '.pdf')}\n",
    "        infnList.append(infn)\n",
    "    merge_pdf(infnList,out_file)"
   ]
  },
  {
   "cell_type": "code",
   "execution_count": 28,
   "metadata": {
    "collapsed": false
   },
   "outputs": [
    {
     "name": "stdout",
     "output_type": "stream",
     "text": [
      "Loading pages (1/6)\n",
      "Counting pages (2/6)                                               \n",
      "Resolving links (4/6)                                                       \n",
      "Loading headers and footers (5/6)                                           \n",
      "Printing pages (6/6)\n",
      "Done                                                                      \n",
      "Loading pages (1/6)\n",
      "Counting pages (2/6)                                               \n",
      "Resolving links (4/6)                                                       \n",
      "Loading headers and footers (5/6)                                           \n",
      "Printing pages (6/6)\n",
      "Done                                                                        \n",
      "Loading pages (1/6)\n",
      "Counting pages (2/6)                                               \n",
      "Resolving links (4/6)                                                       \n",
      "Loading headers and footers (5/6)                                           \n",
      "Printing pages (6/6)\n",
      "Done                                                                        \n",
      "Loading pages (1/6)\n",
      "Counting pages (2/6)                                               \n",
      "Resolving links (4/6)                                                       \n",
      "Loading headers and footers (5/6)                                           \n",
      "Printing pages (6/6)\n",
      "Done                                                                        \n",
      "Loading pages (1/6)\n",
      "Counting pages (2/6)                                               \n",
      "Resolving links (4/6)                                                       \n",
      "Loading headers and footers (5/6)                                           \n",
      "Printing pages (6/6)\n",
      "Done                                                                        \n",
      "Loading pages (1/6)\n",
      "Counting pages (2/6)                                               \n",
      "Resolving links (4/6)                                                       \n",
      "Loading headers and footers (5/6)                                           \n",
      "Printing pages (6/6)\n",
      "Done                                                                        \n",
      "Loading pages (1/6)\n",
      "Counting pages (2/6)                                               \n",
      "Resolving links (4/6)                                                       \n",
      "Loading headers and footers (5/6)                                           \n",
      "Printing pages (6/6)\n",
      "Done                                                                        \n",
      "Loading pages (1/6)\n",
      "Counting pages (2/6)                                               \n",
      "Resolving links (4/6)                                                       \n",
      "Loading headers and footers (5/6)                                           \n",
      "Printing pages (6/6)\n",
      "Done                                                                        \n",
      "Loading pages (1/6)\n",
      "Counting pages (2/6)                                               \n",
      "Resolving links (4/6)                                                       \n",
      "Loading headers and footers (5/6)                                           \n",
      "Printing pages (6/6)\n",
      "Done                                                                        \n",
      "Loading pages (1/6)\n",
      "Counting pages (2/6)                                               \n",
      "Resolving links (4/6)                                                       \n",
      "Loading headers and footers (5/6)                                           \n",
      "Printing pages (6/6)\n",
      "Done                                                                        \n",
      "Loading pages (1/6)\n",
      "Counting pages (2/6)                                               \n",
      "Resolving links (4/6)                                                       \n",
      "Loading headers and footers (5/6)                                           \n",
      "Printing pages (6/6)\n",
      "Done                                                                        \n",
      "Loading pages (1/6)\n",
      "Counting pages (2/6)                                               \n",
      "Resolving links (4/6)                                                       \n",
      "Loading headers and footers (5/6)                                           \n",
      "Printing pages (6/6)\n",
      "Done                                                                        \n",
      "Loading pages (1/6)\n",
      "Counting pages (2/6)                                               \n",
      "Resolving links (4/6)                                                       \n",
      "Loading headers and footers (5/6)                                           \n",
      "Printing pages (6/6)\n",
      "Done                                                                        \n",
      "Loading pages (1/6)\n",
      "Counting pages (2/6)                                               \n",
      "Resolving links (4/6)                                                       \n",
      "Loading headers and footers (5/6)                                           \n",
      "Printing pages (6/6)\n",
      "Done                                                                        \n",
      "Loading pages (1/6)\n",
      "Counting pages (2/6)                                               \n",
      "Resolving links (4/6)                                                       \n",
      "Loading headers and footers (5/6)                                           \n",
      "Printing pages (6/6)\n",
      "Done                                                                        \n",
      "Loading pages (1/6)\n",
      "Counting pages (2/6)                                               \n",
      "Resolving links (4/6)                                                       \n",
      "Loading headers and footers (5/6)                                           \n",
      "Printing pages (6/6)\n",
      "Done                                                                        \n",
      "Loading pages (1/6)\n",
      "Counting pages (2/6)                                               \n",
      "Resolving links (4/6)                                                       \n",
      "Loading headers and footers (5/6)                                           \n",
      "Printing pages (6/6)\n",
      "Done                                                                        \n",
      "Loading pages (1/6)\n",
      "Counting pages (2/6)                                               \n",
      "Resolving links (4/6)                                                       \n",
      "Loading headers and footers (5/6)                                           \n",
      "Printing pages (6/6)\n",
      "Done                                                                        \n",
      "Loading pages (1/6)\n",
      "Counting pages (2/6)                                               \n",
      "Resolving links (4/6)                                                       \n",
      "Loading headers and footers (5/6)                                           \n",
      "Printing pages (6/6)\n",
      "Done                                                                        \n",
      "Loading pages (1/6)\n",
      "Counting pages (2/6)                                               \n",
      "Resolving links (4/6)                                                       \n",
      "Loading headers and footers (5/6)                                           \n",
      "Printing pages (6/6)\n",
      "Done                                                                        \n",
      "Loading pages (1/6)\n",
      "Counting pages (2/6)                                               \n",
      "Resolving links (4/6)                                                       \n",
      "Loading headers and footers (5/6)                                           \n",
      "Printing pages (6/6)\n",
      "Done                                                                        \n",
      "Loading pages (1/6)\n",
      "Counting pages (2/6)                                               \n",
      "Resolving links (4/6)                                                       \n",
      "Loading headers and footers (5/6)                                           \n",
      "Printing pages (6/6)\n",
      "Done                                                                        \n",
      "Loading pages (1/6)\n",
      "Counting pages (2/6)                                               \n",
      "Resolving links (4/6)                                                       \n",
      "Loading headers and footers (5/6)                                           \n",
      "Printing pages (6/6)\n",
      "Done                                                                        \n",
      "Loading pages (1/6)\n",
      "Counting pages (2/6)                                               \n",
      "Resolving links (4/6)                                                       \n",
      "Loading headers and footers (5/6)                                           \n",
      "Printing pages (6/6)\n",
      "Done                                                                        \n",
      "Loading pages (1/6)\n",
      "Counting pages (2/6)                                               \n",
      "Resolving links (4/6)                                                       \n",
      "Loading headers and footers (5/6)                                           \n",
      "Printing pages (6/6)\n",
      "Done                                                                        \n",
      "Loading pages (1/6)\n",
      "Counting pages (2/6)                                               \n",
      "Resolving links (4/6)                                                       \n",
      "Loading headers and footers (5/6)                                           \n",
      "Printing pages (6/6)\n",
      "Done                                                                        \n",
      "Loading pages (1/6)\n",
      "Counting pages (2/6)                                               \n",
      "Resolving links (4/6)                                                       \n",
      "Loading headers and footers (5/6)                                           \n",
      "Printing pages (6/6)\n",
      "Done                                                                        \n",
      "Loading pages (1/6)\n",
      "Counting pages (2/6)                                               \n",
      "Resolving links (4/6)                                                       \n",
      "Loading headers and footers (5/6)                                           \n",
      "Printing pages (6/6)\n",
      "Done                                                                        \n",
      "Loading pages (1/6)\n",
      "Counting pages (2/6)                                               \n",
      "Resolving links (4/6)                                                       \n",
      "Loading headers and footers (5/6)                                           \n",
      "Printing pages (6/6)\n",
      "Done                                                                        \n",
      "Loading pages (1/6)\n",
      "Counting pages (2/6)                                               \n",
      "Resolving links (4/6)                                                       \n",
      "Loading headers and footers (5/6)                                           \n",
      "Printing pages (6/6)\n",
      "Done                                                                        \n"
     ]
    },
    {
     "ename": "TypeError",
     "evalue": "invalid file: {'bookmark': '第1章 准备工作', 'filename': 'e:\\\\test\\\\ 附录B 更多关于IPython的内容（完）.pdf'}",
     "output_type": "error",
     "traceback": [
      "\u001b[0;31m---------------------------------------------------------------------------\u001b[0m",
      "\u001b[0;31mTypeError\u001b[0m                                 Traceback (most recent call last)",
      "\u001b[0;32m<ipython-input-28-58ca95c5b364>\u001b[0m in \u001b[0;36m<module>\u001b[0;34m()\u001b[0m\n\u001b[0;32m----> 1\u001b[0;31m \u001b[0mmain\u001b[0m\u001b[1;33m(\u001b[0m\u001b[1;33m)\u001b[0m\u001b[1;33m\u001b[0m\u001b[0m\n\u001b[0m",
      "\u001b[0;32m<ipython-input-27-ae459bd7fa80>\u001b[0m in \u001b[0;36mmain\u001b[0;34m()\u001b[0m\n\u001b[1;32m     13\u001b[0m                                                               '.pdf')}\n\u001b[1;32m     14\u001b[0m         \u001b[0minfnList\u001b[0m\u001b[1;33m.\u001b[0m\u001b[0mappend\u001b[0m\u001b[1;33m(\u001b[0m\u001b[0minfn\u001b[0m\u001b[1;33m)\u001b[0m\u001b[1;33m\u001b[0m\u001b[0m\n\u001b[0;32m---> 15\u001b[0;31m     \u001b[0mmerge_pdf\u001b[0m\u001b[1;33m(\u001b[0m\u001b[0minfnList\u001b[0m\u001b[1;33m,\u001b[0m\u001b[0mout_file\u001b[0m\u001b[1;33m)\u001b[0m\u001b[1;33m\u001b[0m\u001b[0m\n\u001b[0m",
      "\u001b[0;32m<ipython-input-18-22539619f347>\u001b[0m in \u001b[0;36mmerge_pdf\u001b[0;34m(infnList, outfn)\u001b[0m\n\u001b[1;32m      3\u001b[0m     \u001b[0mpdf_output\u001b[0m \u001b[1;33m=\u001b[0m \u001b[0mPdfFileWriter\u001b[0m\u001b[1;33m(\u001b[0m\u001b[1;33m)\u001b[0m\u001b[1;33m\u001b[0m\u001b[0m\n\u001b[1;32m      4\u001b[0m     \u001b[1;32mfor\u001b[0m \u001b[0minfn\u001b[0m \u001b[1;32min\u001b[0m \u001b[0minfnList\u001b[0m\u001b[1;33m:\u001b[0m\u001b[1;33m\u001b[0m\u001b[0m\n\u001b[0;32m----> 5\u001b[0;31m         \u001b[0mpdf_input\u001b[0m \u001b[1;33m=\u001b[0m \u001b[0mPdfFileReader\u001b[0m\u001b[1;33m(\u001b[0m\u001b[0mopen\u001b[0m\u001b[1;33m(\u001b[0m\u001b[0minfn\u001b[0m\u001b[1;33m,\u001b[0m \u001b[1;34m'rb'\u001b[0m\u001b[1;33m)\u001b[0m\u001b[1;33m)\u001b[0m\u001b[1;33m\u001b[0m\u001b[0m\n\u001b[0m\u001b[1;32m      6\u001b[0m         \u001b[1;31m# 获取 pdf 共用多少页\u001b[0m\u001b[1;33m\u001b[0m\u001b[1;33m\u001b[0m\u001b[0m\n\u001b[1;32m      7\u001b[0m         \u001b[0mpage_count\u001b[0m \u001b[1;33m=\u001b[0m \u001b[0mpdf_input\u001b[0m\u001b[1;33m.\u001b[0m\u001b[0mgetNumPages\u001b[0m\u001b[1;33m(\u001b[0m\u001b[1;33m)\u001b[0m\u001b[1;33m\u001b[0m\u001b[0m\n",
      "\u001b[0;31mTypeError\u001b[0m: invalid file: {'bookmark': '第1章 准备工作', 'filename': 'e:\\\\test\\\\ 附录B 更多关于IPython的内容（完）.pdf'}"
     ]
    }
   ],
   "source": [
    "main()"
   ]
  },
  {
   "cell_type": "code",
   "execution_count": 11,
   "metadata": {
    "collapsed": false
   },
   "outputs": [],
   "source": [
    "html_content = get_content(html)"
   ]
  },
  {
   "cell_type": "code",
   "execution_count": 12,
   "metadata": {
    "collapsed": false
   },
   "outputs": [
    {
     "name": "stdout",
     "output_type": "stream",
     "text": [
      "Loading pages (1/6)\r\n",
      "[>                                                           ] 0%\r",
      "[======>                                                     ] 10%\r",
      "[==============================>                             ] 50%\r",
      "[============================================================] 100%\r",
      "Counting pages (2/6)                                               \r\n",
      "[============================================================] Object 1 of 1\r",
      "Resolving links (4/6)                                                       \r\n",
      "[============================================================] Object 1 of 1\r",
      "Loading headers and footers (5/6)                                           \r\n",
      "Printing pages (6/6)\r\n",
      "[>                                                           ] Preparing\r",
      "[====>                                                       ] Page 1 of 14\r",
      "[========>                                                   ] Page 2 of 14\r",
      "[============>                                               ] Page 3 of 14\r",
      "[================>                                           ] Page 4 of 14\r",
      "[=====================>                                      ] Page 5 of 14\r",
      "[=========================>                                  ] Page 6 of 14\r",
      "[==============================>                             ] Page 7 of 14\r",
      "[==================================>                         ] Page 8 of 14\r",
      "[======================================>                     ] Page 9 of 14\r",
      "[==========================================>                 ] Page 10 of 14\r",
      "[==============================================>             ] Page 11 of 14\r",
      "[===================================================>        ] Page 12 of 14\r",
      "[=======================================================>    ] Page 13 of 14\r",
      "[============================================================] Page 14 of 14\r",
      "Done                                                                        \r\n"
     ]
    }
   ],
   "source": [
    "save_pdf(html_content,out_file)"
   ]
  },
  {
   "cell_type": "code",
   "execution_count": 15,
   "metadata": {
    "collapsed": false
   },
   "outputs": [],
   "source": [
    "href_list = bsj[0].select('a')"
   ]
  },
  {
   "cell_type": "code",
   "execution_count": 16,
   "metadata": {
    "collapsed": false
   },
   "outputs": [
    {
     "data": {
      "text/plain": [
       "33"
      ]
     },
     "execution_count": 16,
     "metadata": {},
     "output_type": "execute_result"
    }
   ],
   "source": [
    "len(href_list)"
   ]
  },
  {
   "cell_type": "code",
   "execution_count": 24,
   "metadata": {
    "collapsed": true
   },
   "outputs": [],
   "source": [
    "html_1 = requests.get(hrep[0]['href'],headers = headers)"
   ]
  },
  {
   "cell_type": "code",
   "execution_count": 25,
   "metadata": {
    "collapsed": true
   },
   "outputs": [
    {
     "data": {
      "text/plain": [
       "'<!DOCTYPE html>\\n<!--[if IE 6]><html class=\"ie lt-ie8\"><![endif]-->\\n<!--[if IE 7]><html class=\"ie lt-ie8\"><![endif]-->\\n<!--[if IE 8]><html class=\"ie ie8\"><![endif]-->\\n<!--[if IE 9]><html class=\"ie ie9\"><![endif]-->\\n<!--[if !IE]><!--> <html> <!--<![endif]-->\\n\\n<head>\\n  <meta charset=\"utf-8\">\\n  <meta http-equiv=\"X-UA-Compatible\" content=\"IE=Edge\">\\n  <meta name=\"viewport\" content=\"width=device-width, initial-scale=1.0,user-scalable=no\">\\n\\n  <!-- Start of Baidu Transcode -->\\n  <meta http-equiv=\"Cache-Control\" content=\"no-siteapp\" />\\n  <meta http-equiv=\"Cache-Control\" content=\"no-transform\" />\\n  <meta name=\"applicable-device\" content=\"pc,mobile\">\\n  <meta name=\"MobileOptimized\" content=\"width\"/>\\n  <meta name=\"HandheldFriendly\" content=\"true\"/>\\n  <meta name=\"mobile-agent\" content=\"format=html5;url=https://www.jianshu.com/p/04d180d90a3f\">\\n  <!-- End of Baidu Transcode -->\\n\\n    <meta name=\"description\"  content=\"第1章 准备工作第2章 Python语法基础，IPython和Jupyter Notebooks第3章 Python的数据结构、函数和文件第4章 NumPy基础：数组和矢量计算第5章 pandas入门第6章 数据加载、存储与文件格式第7章 数据清洗和准备第8章 数据规整：聚合、合并和重塑第9章 绘图和可视化第10章 数据聚合与分组运算第11章 时间序列第12章 pandas高级应用第13章 ...\">\\n\\n  <meta name=\"360-site-verification\" content=\"604a14b53c6b871206001285921e81d8\" />\\n  <meta property=\"wb:webmaster\" content=\"294ec9de89e7fadb\" />\\n  <meta property=\"qc:admins\" content=\"104102651453316562112116375\" />\\n  <meta property=\"qc:admins\" content=\"11635613706305617\" />\\n  <meta property=\"qc:admins\" content=\"1163561616621163056375\" />\\n  <meta name=\"google-site-verification\" content=\"cV4-qkUJZR6gmFeajx_UyPe47GW9vY6cnCrYtCHYNh4\" />\\n  <meta name=\"google-site-verification\" content=\"HF7lfF8YEGs1qtCE-kPml8Z469e2RHhGajy6JPVy5XI\" />\\n  <meta http-equiv=\"mobile-agent\" content=\"format=html5; url=https://www.jianshu.com/p/04d180d90a3f\">\\n\\n  <!-- Apple -->\\n  <meta name=\"apple-mobile-web-app-title\" content=\"简书\">\\n\\n    <!--  Meta for Smart App Banner -->\\n  <meta name=\"apple-itunes-app\" content=\"app-id=888237539, app-argument=jianshu://notes/19059712\">\\n  <!-- End -->\\n\\n  <!--  Meta for Twitter Card -->\\n  <meta content=\"summary\" property=\"twitter:card\">\\n  <meta content=\"@jianshucom\" property=\"twitter:site\">\\n  <meta content=\"《利用Python进行数据分析·第2版》第1章 准备工作\" property=\"twitter:title\">\\n  <meta content=\"第1章 准备工作第2章 Python语法基础，IPython和Jupyter Notebooks第3章 Python的数据结构、函数和文件第4章 NumPy基础：数组和矢量计...\" property=\"twitter:description\">\\n  <meta content=\"https://www.jianshu.com/p/04d180d90a3f\" property=\"twitter:url\">\\n  <!-- End -->\\n\\n  <!--  Meta for OpenGraph -->\\n  <meta property=\"fb:app_id\" content=\"865829053512461\">\\n  <meta property=\"og:site_name\" content=\"简书\">\\n  <meta property=\"og:title\" content=\"《利用Python进行数据分析·第2版》第1章 准备工作\">\\n  <meta property=\"og:type\" content=\"article\">\\n  <meta property=\"og:url\" content=\"https://www.jianshu.com/p/04d180d90a3f\">\\n  <meta property=\"og:description\" content=\"第1章 准备工作第2章 Python语法基础，IPython和Jupyter Notebooks第3章 Python的数据结构、函数和文件第4章 NumPy基础：数组和矢量计算第5章 panda...\">\\n  <!-- End -->\\n\\n  <!--  Meta for Facebook Applinks -->\\n  <meta property=\"al:ios:url\" content=\"jianshu://notes/19059712\" />\\n  <meta property=\"al:ios:app_store_id\" content=\"888237539\" />\\n  <meta property=\"al:ios:app_name\" content=\"简书\" />\\n\\n  <meta property=\"al:android:url\" content=\"jianshu://notes/19059712\" />\\n  <meta property=\"al:android:package\" content=\"com.jianshu.haruki\" />\\n  <meta property=\"al:android:app_name\" content=\"简书\" />\\n  <!-- End -->\\n\\n\\n    <title>《利用Python进行数据分析·第2版》第1章 准备工作 - 简书</title>\\n\\n  <meta name=\"csrf-param\" content=\"authenticity_token\" />\\n<meta name=\"csrf-token\" content=\"klPAdVUQa2FYl5M5vaY+yIa9tBENIMFHekSj8MV2mVRSwFFk2kUwAgiqleuSCbNZaWi2PHzuwQXR7s/d13nQbA==\" />\\n\\n  <link rel=\"stylesheet\" media=\"all\" href=\"//cdn2.jianshu.io/assets/web-2b26d78a4d3c053b7b1c.css\" />\\n  \\n  <link rel=\"stylesheet\" media=\"all\" href=\"//cdn2.jianshu.io/assets/web/pages/notes/show/entry-5428969bbd50326930bb.css\" />\\n\\n  <link href=\"//cdn2.jianshu.io/assets/favicons/favicon-e743bfb1821442341c3ab15bdbe804f7ad97676bd07a770ccc9483473aa76f06.ico\" rel=\"shortcut icon\" type=\"image/x-icon\">\\n      <link rel=\"apple-touch-icon-precomposed\" href=\"//cdn2.jianshu.io/assets/apple-touch-icons/57-a6f1f1ee62ace44f6dc2f6a08575abd3c3b163288881c78dd8d75247682a4b27.png\" sizes=\"57x57\" />\\n      <link rel=\"apple-touch-icon-precomposed\" href=\"//cdn2.jianshu.io/assets/apple-touch-icons/72-fb9834bcfce738fd7b9c5e31363e79443e09a81a8e931170b58bc815387c1562.png\" sizes=\"72x72\" />\\n      <link rel=\"apple-touch-icon-precomposed\" href=\"//cdn2.jianshu.io/assets/apple-touch-icons/76-49d88e539ff2489475d603994988d871219141ecaa0b1a7a9a1914f4fe3182d6.png\" sizes=\"76x76\" />\\n      <link rel=\"apple-touch-icon-precomposed\" href=\"//cdn2.jianshu.io/assets/apple-touch-icons/114-24252fe693524ed3a9d0905e49bff3cbd0228f25a320aa09053c2ebb4955de97.png\" sizes=\"114x114\" />\\n      <link rel=\"apple-touch-icon-precomposed\" href=\"//cdn2.jianshu.io/assets/apple-touch-icons/120-1bb7371f5e87f93ce780a5f1a05ff1b176828ee0d1d130e768575918a2e05834.png\" sizes=\"120x120\" />\\n      <link rel=\"apple-touch-icon-precomposed\" href=\"//cdn2.jianshu.io/assets/apple-touch-icons/152-bf209460fc1c17bfd3e2b84c8e758bc11ca3e570fd411c3bbd84149b97453b99.png\" sizes=\"152x152\" />\\n\\n  <!-- Start of 访问统计 -->\\n    <script>\\n    var _hmt = _hmt || [];\\n    (function() {\\n      var hm = document.createElement(\"script\");\\n      hm.src = \"//hm.baidu.com/hm.js?0c0e9d9b1e7d617b3e6842e85b9fb068\";\\n      var s = document.getElementsByTagName(\"script\")[0];\\n      s.parentNode.insertBefore(hm, s);\\n    })();\\n  </script>\\n\\n  <!-- End of 访问统计 -->\\n</head>\\n\\n  <body lang=\"zh-CN\" class=\"reader-song-font\">\\n    <!-- 全局顶部导航栏 -->\\n<nav class=\"navbar navbar-default navbar-fixed-top\" role=\"navigation\">\\n  <div class=\"width-limit\">\\n    <!-- 左上方 Logo -->\\n    <a class=\"logo\" href=\"/\"><img src=\"//cdn2.jianshu.io/assets/web/nav-logo-4c7bbafe27adc892f3046e6978459bac.png\" alt=\"Nav logo\" /></a>\\n\\n    <!-- 右上角 -->\\n      <!-- 未登录显示登录/注册/写文章 -->\\n      <a class=\"btn write-btn\" target=\"_blank\" href=\"/writer#/\">\\n        <i class=\"iconfont ic-write\"></i>写文章\\n</a>      <a class=\"btn sign-up\" href=\"/sign_up\">注册</a>\\n      <a class=\"btn log-in\" href=\"/sign_in\">登录</a>\\n\\n    <!-- 如果用户登录，显示下拉菜单 -->\\n\\n    <div id=\"view-mode-ctrl\">\\n    </div>\\n    <div class=\"container\">\\n      <div class=\"navbar-header\">\\n        <button type=\"button\" class=\"navbar-toggle collapsed\" data-toggle=\"collapse\" data-target=\"#menu\" aria-expanded=\"false\">\\n          <span class=\"icon-bar\"></span>\\n          <span class=\"icon-bar\"></span>\\n          <span class=\"icon-bar\"></span>\\n        </button>\\n      </div>\\n      <div class=\"collapse navbar-collapse\" id=\"menu\">\\n        <ul class=\"nav navbar-nav\">\\n            <li class=\"tab \">\\n              <a href=\"/\">\\n                <span class=\"menu-text\">首页</span><i class=\"iconfont ic-navigation-discover menu-icon\"></i>\\n</a>            </li>\\n            <li class=\"tab \">\\n              <a id=\"web-nav-app-download-btn\" class=\"app-download-btn\" href=\"/apps?utm_medium=desktop&amp;utm_source=navbar-apps\"><span class=\"menu-text\">下载App</span><i class=\"iconfont ic-navigation-download menu-icon\"></i></a>\\n            </li>\\n          <li class=\"search\">\\n            <form target=\"_blank\" action=\"/search\" accept-charset=\"UTF-8\" method=\"get\"><input name=\"utf8\" type=\"hidden\" value=\"&#x2713;\" />\\n              <input type=\"text\" name=\"q\" id=\"q\" value=\"\" autocomplete=\"off\" placeholder=\"搜索\" class=\"search-input\" />\\n              <a class=\"search-btn\" href=\"javascript:void(null)\"><i class=\"iconfont ic-search\"></i></a>\\n</form>          </li>\\n        </ul>\\n      </div>\\n    </div>\\n  </div>\\n</nav>\\n\\n    \\n<div class=\"note\">\\n    <a target=\"_blank\" href=\"/apps/redirect?utm_source=side-banner-click\" id=\"web-note-ad-fixed\"><span class=\"close\">&times;</span></a>\\n  <div class=\"post\">\\n    <div class=\"article\">\\n        <h1 class=\"title\">《利用Python进行数据分析·第2版》第1章 准备工作</h1>\\n\\n        <!-- 作者区域 -->\\n        <div class=\"author\">\\n          <a class=\"avatar\" href=\"/u/130f76596b02\">\\n            <img src=\"//upload.jianshu.io/users/upload_avatars/7178691/a5c7cd21-a016-4edc-88a6-bfea8bef609c.jpg?imageMogr2/auto-orient/strip|imageView2/1/w/96/h/96\" alt=\"96\" />\\n</a>          <div class=\"info\">\\n            <span class=\"name\"><a href=\"/u/130f76596b02\">SeanCheney</a></span>\\n            <!-- 关注用户按钮 -->\\n            <div props-data-classes=\"user-follow-button-header\" data-author-follow-button></div>\\n            <!-- 文章数据信息 -->\\n            <div class=\"meta\">\\n              <!-- 如果文章更新时间大于发布时间，那么使用 tooltip 显示更新时间 -->\\n                <span class=\"publish-time\" data-toggle=\"tooltip\" data-placement=\"bottom\" title=\"最后编辑于 2018.07.04 17:38\">2017.10.31 15:02*</span>\\n              <span class=\"wordage\">字数 7958</span>\\n            </div>\\n          </div>\\n          <!-- 如果是当前作者，加入编辑按钮 -->\\n        </div>\\n\\n\\n        <!-- 文章内容 -->\\n        <div data-note-content class=\"show-content\">\\n          <div class=\"show-content-free\">\\n            <hr>\\n<p>第1章 准备工作<br>\\n<a href=\"https://www.jianshu.com/p/fc93e943e94a\" target=\"_blank\">第2章 Python语法基础，IPython和Jupyter Notebooks</a><br>\\n<a href=\"https://www.jianshu.com/p/b444cda10aa0\" target=\"_blank\">第3章 Python的数据结构、函数和文件</a><br>\\n<a href=\"https://www.jianshu.com/p/a380222a3292\" target=\"_blank\">第4章 NumPy基础：数组和矢量计算</a><br>\\n<a href=\"https://www.jianshu.com/p/161364dd0acf\" target=\"_blank\">第5章 pandas入门</a><br>\\n<a href=\"https://www.jianshu.com/p/047d8c1c7e14\" target=\"_blank\">第6章 数据加载、存储与文件格式</a><br>\\n<a href=\"https://www.jianshu.com/p/ac7bec000dad\" target=\"_blank\">第7章 数据清洗和准备</a><br>\\n<a href=\"https://www.jianshu.com/p/cfc035bae567\" target=\"_blank\">第8章 数据规整：聚合、合并和重塑</a><br>\\n<a href=\"https://www.jianshu.com/p/7a0eafdd1340\" target=\"_blank\">第9章 绘图和可视化</a><br>\\n<a href=\"https://www.jianshu.com/p/b94deb5c7eb1\" target=\"_blank\">第10章 数据聚合与分组运算</a><br>\\n<a href=\"https://www.jianshu.com/p/29ece4592178\" target=\"_blank\">第11章 时间序列</a><br>\\n<a href=\"https://www.jianshu.com/p/9d093ebcc5d8\" target=\"_blank\">第12章 pandas高级应用</a><br>\\n<a href=\"https://www.jianshu.com/p/e46a1ac36aa5\" target=\"_blank\">第13章 Python建模库介绍</a><br>\\n<a href=\"https://www.jianshu.com/p/72b6c83bb69e\" target=\"_blank\">第14章 数据分析案例</a><br>\\n<a href=\"https://www.jianshu.com/p/3c3f7da88516\" target=\"_blank\">附录A NumPy高级应用</a><br>\\n<a href=\"https://www.jianshu.com/p/fb6719a18cea\" target=\"_blank\">附录B 更多关于IPython的内容（完）</a></p>\\n<hr>\\n<div class=\"image-package\">\\n<div class=\"image-container\" style=\"max-width: 516px; max-height: 676px;\">\\n<div class=\"image-container-fill\" style=\"padding-bottom: 131.01%;\"></div>\\n<div class=\"image-view\" data-width=\"516\" data-height=\"676\"><img data-original-src=\"//upload-images.jianshu.io/upload_images/7178691-0d965cf51eb5af9e.png\" data-original-width=\"516\" data-original-height=\"676\" data-original-format=\"\" data-original-filesize=\"196022\"></div>\\n</div>\\n<div class=\"image-caption\"></div>\\n</div>\\n<p>下载本书：<a href=\"https://www.jianshu.com/p/fad9e41c1a42\" target=\"_blank\">http://www.jianshu.com/p/fad9e41c1a42</a>（更新为GitHub链接）</p>\\n<p>GitHub（欢迎提pull request，GitHub上的md文件可以用来自制电子书，pdf、mobi、epub格式的都行）：<br>\\n<a href=\"https://github.com/iamseancheney/python_for_data_analysis_2nd_chinese_version\" target=\"_blank\" rel=\"nofollow\">https://github.com/iamseancheney/python_for_data_analysis_2nd_chinese_version</a></p>\\n<p>GitBook（有锚点功能）：<br>\\n<a href=\"https://seancheney.gitbook.io/python-for-data-analysis-2nd/\" target=\"_blank\" rel=\"nofollow\">https://seancheney.gitbook.io/python-for-data-analysis-2nd/</a></p>\\n<p>下载本书代码：<a href=\"https://github.com/wesm/pydata-book\" target=\"_blank\" rel=\"nofollow\">https://github.com/wesm/pydata-book</a>（建议把代码下载下来之后，安装好Anaconda 3.6，在目录文件夹中用Jupyter notebook打开）</p>\\n<hr>\\n<p>本书是2017年10月20号正式出版的，和第1版的不同之处有：</p>\\n<ul>\\n<li>包括Python教程内的所有代码升级为Python 3.6（第1版使用的是Python 2.7）</li>\\n<li>更新了Anaconda和其它包的Python安装方法</li>\\n<li>更新了Pandas为2017最新版</li>\\n<li>新增了一章，关于更高级的Pandas工具，外加一些tips</li>\\n<li>简要介绍了使用StatsModels和scikit-learn</li>\\n</ul>\\n<p>对有些内容进行了重新排版。（译者注1：最大的改变是把第1版附录中的Python教程，单列成了现在的第2章和第3章，并且进行了扩充。可以说，本书第2版对新手更为友好了！）</p>\\n<p>（译者注2：毫无疑问，本书是学习Python数据分析最好的参考书。本来想把书名直接译为《Python数据分析》，这样更简短。但是为了尊重第1版的翻译，考虑到继承性，还是用老书名。这样读过第一版的老读者可以方便的用之前的书名检索到第二版。作者在写第二版的时候，有些文字是照搬第一版的。所以第二版的翻译也借鉴copy了第一版翻译：即，如果第二版中有和第一版相同的文字，则copy第一版的中文译本，觉得不妥的地方会稍加修改，剩下的不同的内容就自己翻译。这样做也是为读过第一版的老读者考虑——相同的内容可以直接跳过。）</p>\\n<hr>\\n<h1>1.1 本书的内容</h1>\\n<p>本书讲的是利用Python进行数据控制、处理、整理、分析等方面的具体细节和基本要点。我的目标是介绍Python编程和用于数据处理的库和工具环境，掌握这些，可以让你成为一个数据分析专家。虽然本书的标题是“数据分析”，重点却是Python编程、库，以及用于数据分析的工具。这就是数据分析要用到的Python编程。</p>\\n<h2>什么样的数据？</h2>\\n<p>当书中出现“数据”时，究竟指的是什么呢？主要指的是结构化数据（structured data），这个故意含糊其辞的术语代指了所有通用格式的数据，例如：</p>\\n<ul>\\n<li>表格型数据，其中各列可能是不同的类型（字符串、数值、日期等）。比如保存在关系型数据库中或以制表符/逗号为分隔符的文本文件中的那些数据。</li>\\n<li>多维数组（矩阵）。</li>\\n<li>通过关键列（对于SQL用户而言，就是主键和外键）相互联系的多个表。</li>\\n<li>间隔平均或不平均的时间序列。</li>\\n</ul>\\n<p>这绝不是一个完整的列表。大部分数据集都能被转化为更加适合分析和建模的结构化形式，虽然有时这并不是很明显。如果不行的话，也可以将数据集的特征提取为某种结构化形式。例如，一组新闻文章可以被处理为一张词频表，而这张词频表就可以用于情感分析。</p>\\n<p>大部分电子表格软件（比如Microsoft Excel，它可能是世界上使用最广泛的数据分析工具了）的用户不会对此类数据感到陌生。</p>\\n<h1>1.2 为什么要使用Python进行数据分析</h1>\\n<p>许许多多的人（包括我自己）都很容易爱上Python这门语言。自从1991年诞生以来，Python现在已经成为最受欢迎的动态编程语言之一，其他还有Perl、Ruby等。由于拥有大量的Web框架（比如Rails（Ruby）和Django（Python）），自从2005年，使用Python和Ruby进行网站建设工作非常流行。这些语言常被称作脚本（scripting）语言，因为它们可以用于编写简短而粗糙的小程序（也就是脚本）。我个人并不喜欢“脚本语言”这个术语，因为它好像在说这些语言无法用于构建严谨的软件。在众多解释型语言中，由于各种历史和文化的原因，Python发展出了一个巨大而活跃的科学计算（scientific computing）社区。在过去的10年，Python从一个边缘或“自担风险”的科学计算语言，成为了数据科学、机器学习、学界和工业界软件开发最重要的语言之一。</p>\\n<p>在数据分析、交互式计算以及数据可视化方面，Python将不可避免地与其他开源和商业的领域特定编程语言/工具进行对比，如R、MATLAB、SAS、Stata等。近年来，由于Python的库（例如pandas和scikit-learn）不断改良，使其成为数据分析任务的一个优选方案。结合其在通用编程方面的强大实力，我们完全可以只使用Python这一种语言构建以数据为中心的应用。</p>\\n<h2>Python作为胶水语言</h2>\\n<p>Python成为成功的科学计算工具的部分原因是，它能够轻松地集成C、C++以及Fortran代码。大部分现代计算环境都利用了一些Fortran和C库来实现线性代数、优选、积分、快速傅里叶变换以及其他诸如此类的算法。许多企业和国家实验室也利用Python来“粘合”那些已经用了多年的遗留软件系统。</p>\\n<p>大多数软件都是由两部分代码组成的：少量需要占用大部分执行时间的代码，以及大量不经常执行的“胶水代码”。大部分情况下，胶水代码的执行时间是微不足道的。开发人员的精力几乎都是花在优化计算瓶颈上面，有时更是直接转用更低级的语言（比如C）。</p>\\n<h2>解决“两种语言”问题</h2>\\n<p>很多组织通常都会用一种类似于领域特定的计算语言（如SAS和R）对新想法做研究、原型构建和测试，然后再将这些想法移植到某个更大的生产系统中去（可能是用Java、C#或C++编写的）。人们逐渐意识到，Python不仅适用于研究和原型构建，同时也适用于构建生产系统。为什么一种语言就够了，却要使用两个语言的开发环境呢？我相信越来越多的企业也会这样看，因为研究人员和工程技术人员使用同一种编程工具将会给企业带来非常显著的组织效益。</p>\\n<h2>为什么不选Python</h2>\\n<p>虽然Python非常适合构建分析应用以及通用系统，但它对不少应用场景适用性较差。</p>\\n<p>由于Python是一种解释型编程语言，因此大部分Python代码都要比用编译型语言（比如Java和C++）编写的代码运行慢得多。由于程序员的时间通常都比CPU时间值钱，因此许多人也愿意对此做一些取舍。但是，在那些延迟要求非常小或高资源利用率的应用中（例如高频交易系统），耗费时间使用诸如C++这样更低级、更低生产率的语言进行编程也是值得的。</p>\\n<p>对于高并发、多线程的应用程序而言（尤其是拥有许多计算密集型线程的应用程序），Python并不是一种理想的编程语言。这是因为Python有一个叫做全局解释器锁（Global Interpreter Lock，GIL）的组件，这是一种防止解释器同时执行多条Python字节码指令的机制。有关“为什么会存在GIL”的技术性原因超出了本书的范围。虽然很多大数据处理应用程序为了能在较短的时间内完成数据集的处理工作都需要运行在计算机集群上，但是仍然有一些情况需要用单进程多线程系统来解决。</p>\\n<p>这并不是说Python不能执行真正的多线程并行代码。例如，Python的C插件使用原生的C或C++的多线程，可以并行运行而不被GIL影响，只要它们不频繁地与Python对象交互。</p>\\n<h1>1.3 重要的Python库</h1>\\n<p>考虑到那些还不太了解Python科学计算生态系统和库的读者，下面我先对各个库做一个简单的介绍。</p>\\n<h2>NumPy</h2>\\n<p>NumPy（Numerical Python的简称）是Python科学计算的基础包。本书大部分内容都基于NumPy以及构建于其上的库。它提供了以下功能（不限于此）：</p>\\n<ul>\\n<li>快速高效的多维数组对象ndarray。</li>\\n<li>用于对数组执行元素级计算以及直接对数组执行数学运算的函数。</li>\\n<li>用于读写硬盘上基于数组的数据集的工具。</li>\\n<li>线性代数运算、傅里叶变换，以及随机数生成。<br>\\n-成熟的C API， 用于Python插件和原生C、C++、Fortran代码访问NumPy的数据结构和计算工具。</li>\\n</ul>\\n<p>除了为Python提供快速的数组处理能力，NumPy在数据分析方面还有另外一个主要作用，即作为在算法和库之间传递数据的容器。对于数值型数据，NumPy数组在存储和处理数据时要比内置的Python数据结构高效得多。此外，由低级语言（比如C和Fortran）编写的库可以直接操作NumPy数组中的数据，无需进行任何数据复制工作。因此，许多Python的数值计算工具要么使用NumPy数组作为主要的数据结构，要么可以与NumPy进行无缝交互操作。</p>\\n<h2>pandas</h2>\\n<p>pandas提供了快速便捷处理结构化数据的大量数据结构和函数。自从2010年出现以来，它助使Python成为强大而高效的数据分析环境。本书用得最多的pandas对象是DataFrame，它是一个面向列（column-oriented）的二维表结构，另一个是Series，一个一维的标签化数组对象。</p>\\n<p>pandas兼具NumPy高性能的数组计算功能以及电子表格和关系型数据库（如SQL）灵活的数据处理功能。它提供了复杂精细的索引功能，能更加便捷地完成重塑、切片和切块、聚合以及选取数据子集等操作。因为数据操作、准备、清洗是数据分析最重要的技能，pandas是本书的重点。</p>\\n<p>作为背景，我是在2008年初开始开发pandas的，那时我任职于AQR Capital Management，一家量化投资管理公司，我有许多工作需求都不能用任何单一的工具解决：</p>\\n<ul>\\n<li>有标签轴的数据结构，支持自动或清晰的数据对齐。这可以防止由于数据不对齐，或处理来源不同的索引不同的数据，所造成的错误。</li>\\n<li>集成时间序列功能。</li>\\n<li>相同的数据结构用于处理时间序列数据和非时间序列数据。</li>\\n<li>保存元数据的算术运算和压缩。</li>\\n<li>灵活处理缺失数据。</li>\\n<li>合并和其它流行数据库（例如基于SQL的数据库）的关系操作。</li>\\n</ul>\\n<p>我想只用一种工具就实现所有功能，并使用通用软件开发语言。Python是一个不错的候选语言，但是此时没有集成的数据结构和工具来实现。我一开始就是想把pandas设计为一款适用于金融和商业分析的工具，pandas专注于深度时间序列功能和工具，适用于时间索引化的数据。</p>\\n<p>对于使用R语言进行统计计算的用户，肯定不会对DataFrame这个名字感到陌生，因为它源自于R的data.frame对象。但与Python不同，data frames是构建于R和它的标准库。因此，pandas的许多功能不属于R或它的扩展包。</p>\\n<p>pandas这个名字源于panel data（面板数据，这是多维结构化数据集在计量经济学中的术语）以及Python data analysis（Python数据分析）。</p>\\n<h1>matplotlib</h1>\\n<p>matplotlib是最流行的用于绘制图表和其它二维数据可视化的Python库。它最初由John D.Hunter（JDH）创建，目前由一个庞大的开发团队维护。它非常适合创建出版物上用的图表。虽然还有其它的Python可视化库，matplotlib却是使用最广泛的，并且它和其它生态工具配合也非常完美。我认为，可以使用它作为默认的可视化工具。</p>\\n<h1>IPython和Jupyter</h1>\\n<p>IPython项目起初是Fernando Pérez在2001年的一个用以加强和Python交互的子项目。在随后的16年中，它成为了Python数据栈最重要的工具之一。虽然IPython本身没有提供计算和数据分析的工具，它却可以大大提高交互式计算和软件开发的生产率。IPython鼓励“执行-探索”的工作流，区别于其它编程软件的“编辑-编译-运行”的工作流。它还可以方便地访问系统的shell和文件系统。因为大部分的数据分析代码包括探索、试错和重复，IPython可以使工作更快。</p>\\n<p>2014年，Fernando和IPython团队宣布了Jupyter项目，一个更宽泛的多语言交互计算工具的计划。IPython web notebook变成了Jupyter notebook，现在支持40种编程语言。IPython现在可以作为Jupyter使用Python的内核（一种编程语言模式）。</p>\\n<p>IPython变成了Jupyter庞大开源项目（一个交互和探索式计算的高效环境）中的一个组件。它最老也是最简单的模式，现在是一个用于编写、测试、调试Python代码的强化shell。你还可以使用通过Jupyter Notebook，一个支持多种语言的交互式网络代码“笔记本”，来使用IPython。IPython shell 和Jupyter notebooks特别适合进行数据探索和可视化。</p>\\n<p>Jupyter notebooks还可以编写Markdown和HTML内容，它提供了一种创建代码和文本的富文本方法。其它编程语言也在Jupyter中植入了内核，好让在Jupyter中可以使用Python以外的语言。</p>\\n<p>对我个人而言，我的大部分Python工作都要用到IPython，包括运行、调试和测试代码。</p>\\n<p>在本书的GitHub页面，你可以找到包含各章节所有代码实例的Jupyter notebooks。</p>\\n<h1>SciPy</h1>\\n<p>SciPy是一组专门解决科学计算中各种标准问题域的包的集合，主要包括下面这些包：</p>\\n<ul>\\n<li>scipy.integrate：数值积分例程和微分方程求解器。</li>\\n<li>scipy.linalg：扩展了由numpy.linalg提供的线性代数例程和矩阵分解功能。</li>\\n<li>scipy.optimize：函数优化器（最小化器）以及根查找算法。</li>\\n<li>scipy.signal：信号处理工具。</li>\\n<li>scipy.sparse：稀疏矩阵和稀疏线性系统求解器。</li>\\n<li>scipy.special：SPECFUN（这是一个实现了许多常用数学函数（如伽玛函数）的Fortran库）的包装器。</li>\\n<li>scipy.stats：标准连续和离散概率分布（如密度函数、采样器、连续分布函数等）、各种统计检验方法，以及更好的描述统计法。</li>\\n</ul>\\n<p>NumPy和SciPy结合使用，便形成了一个相当完备和成熟的计算平台，可以处理多种传统的科学计算问题。</p>\\n<h1>scikit-learn</h1>\\n<p>2010年诞生以来，scikit-learn成为了Python的通用机器学习工具包。仅仅七年，就汇聚了全世界超过1500名贡献者。它的子模块包括：</p>\\n<ul>\\n<li>分类：SVM、近邻、随机森林、逻辑回归等等。</li>\\n<li>回归：Lasso、岭回归等等。</li>\\n<li>聚类：k-均值、谱聚类等等。</li>\\n<li>降维：PCA、特征选择、矩阵分解等等。</li>\\n<li>选型：网格搜索、交叉验证、度量。</li>\\n<li>预处理：特征提取、标准化。</li>\\n</ul>\\n<p>与pandas、statsmodels和IPython一起，scikit-learn对于Python成为高效数据科学编程语言起到了关键作用。虽然本书不会详细讲解scikit-learn，我会简要介绍它的一些模型，以及用其它工具如何使用这些模型。</p>\\n<h1>statsmodels</h1>\\n<p>statsmodels是一个统计分析包，起源于斯坦福大学统计学教授Jonathan Taylor，他设计了多种流行于R语言的回归分析模型。Skipper Seabold和Josef Perktold在2010年正式创建了statsmodels项目，随后汇聚了大量的使用者和贡献者。受到R的公式系统的启发，Nathaniel Smith发展出了Patsy项目，它提供了statsmodels的公式或模型的规范框架。</p>\\n<p>与scikit-learn比较，statsmodels包含经典统计学和经济计量学的算法。包括如下子模块：</p>\\n<ul>\\n<li>回归模型：线性回归，广义线性模型，健壮线性模型，线性混合效应模型等等。</li>\\n<li>方差分析（ANOVA）。</li>\\n<li>时间序列分析：AR，ARMA，ARIMA，VAR和其它模型。</li>\\n<li>非参数方法： 核密度估计，核回归。</li>\\n<li>统计模型结果可视化。</li>\\n</ul>\\n<p>statsmodels更关注与统计推断，提供不确定估计和参数p-值。相反的，scikit-learn注重预测。</p>\\n<p>同scikit-learn一样，我也只是简要介绍statsmodels，以及如何用NumPy和pandas使用它。</p>\\n<h1>1.4 安装和设置</h1>\\n<p>由于人们用Python所做的事情不同，所以没有一个普适的Python及其插件包的安装方案。由于许多读者的Python科学计算环境都不能完全满足本书的需要，所以接下来我将详细介绍各个操作系统上的安装方法。我推荐免费的Anaconda安装包。写作本书时，Anaconda提供Python 2.7和3.6两个版本，以后可能发生变化。本书使用的是Python 3.6，因此推荐选择Python 3.6或更高版本。</p>\\n<h2>Windows</h2>\\n<p>要在Windows上运行，先下载<a href=\"https://www.anaconda.com/download/\" target=\"_blank\" rel=\"nofollow\">Anaconda安装包</a>。推荐跟随Anaconda下载页面的Windows安装指导，安装指导在写作本书和读者看到此文的的这段时间内可能发生变化。</p>\\n<p>现在，来确认设置是否正确。打开命令行窗口（<code>cmd.exe</code>），输入<code>python</code>以打开Python解释器。可以看到类似下面的Anaconda版本的输出：</p>\\n<pre><code>C:\\\\Users\\\\wesm&gt;python\\nPython 3.5.2 |Anaconda 4.1.1 (64-bit)| (default, Jul  5 2016, 11:41:13)\\n[MSC v.1900 64 bit (AMD64)] on win32\\n&gt;&gt;&gt;\\n</code></pre>\\n<p>要退出shell，按Ctrl-D（Linux或macOS上），Ctrl-Z（Windows上），或输入命令<code>exit()</code>，再按Enter。</p>\\n<h2>Apple (OS X, macOS)</h2>\\n<p>下载OS X Anaconda安装包，它的名字类似Anaconda3-4.1.0-MacOSX-x86_64.pkg。双击.pkg文件，运行安装包。安装包运行时，会自动将Anaconda执行路径添加到<code>.bash_profile</code>文件，它位于<code>/Users/$USER/.bash_profile</code>。</p>\\n<p>为了确认成功，在系统shell打开IPython：</p>\\n<pre><code>$ ipython\\n</code></pre>\\n<p>要退出shell，按Ctrl-D，或输入命令<code>exit()</code>，再按Enter。</p>\\n<h2>GNU/Linux</h2>\\n<p>Linux版本很多，这里给出Debian、Ubantu、CentOS和Fedora的安装方法。安装包是一个脚本文件，必须在shell中运行。取决于系统是32位还是64位，要么选择x86 (32位)或x86_64 (64位)安装包。随后你会得到一个文件，名字类似于<code>Anaconda3-4.1.0-Linux-x86_64.sh</code>。用bash进行安装：</p>\\n<pre><code>$ bash Anaconda3-4.1.0-Linux-x86_64.sh\\n</code></pre>\\n<blockquote>\\n<p>笔记：某些Linux版本在包管理器中有满足需求的Python包，只需用类似apt的工具安装就行。这里讲的用Anaconda安装，适用于不同的Linux安装包，也很容易将包升级到最新版本。</p>\\n</blockquote>\\n<p>接受许可之后，会向你询问在哪里放置Anaconda的文件。我推荐将文件安装到默认的home目录，例如<code>/home/$USER/anaconda</code>。</p>\\n<p>Anaconda安装包可能会询问你是否将<code>bin/</code>目录添加到<code>$PATH</code>变量。如果在安装之后有任何问题，你可以修改文件<code>.bashrc</code>（或<code>.zshrc</code>，如果使用的是zsh shell）为类似以下的内容：</p>\\n<pre><code>export PATH=/home/$USER/anaconda/bin:$PATH\\n</code></pre>\\n<p>做完之后，你可以开启一个新窗口，或再次用<code>~/.bashrc</code>执行<code>.bashrc</code>。</p>\\n<h2>安装或升级Python包</h2>\\n<p>在你阅读本书的时候，你可能想安装另外的不在Anaconda中的Python包。通常，可以用以下命令安装：</p>\\n<pre><code>conda install package_name\\n</code></pre>\\n<p>如果这个命令不行，也可以用pip包管理工具：</p>\\n<pre><code>pip install package_name\\n</code></pre>\\n<p>你可以用<code>conda update</code>命令升级包：</p>\\n<pre><code>conda update package_name\\n</code></pre>\\n<p>pip可以用<code>--upgrade</code>升级：</p>\\n<pre><code>pip install --upgrade package_name\\n</code></pre>\\n<p>本书中，你有许多机会尝试这些命令。</p>\\n<blockquote>\\n<p>注意：当你使用conda和pip二者安装包时，千万不要用pip升级conda的包，这样会导致环境发生问题。当使用Anaconda或Miniconda时，最好首先使用conda进行升级。</p>\\n</blockquote>\\n<p>Python 2 和 Python 3</p>\\n<p>第一版的Python 3.x出现于2008年。它有一系列的变化，与之前的Python 2.x代码有不兼容的地方。因为从1991年Python出现算起，已经过了17年，Python 3 的出现被视为吸取一些列教训的更优结果。</p>\\n<p>2012年，因为许多包还没有完全支持Python 3，许多科学和数据分析社区还是在使用Python 2.x。因此，本书第一版使用的是Python 2.7。现在，用户可以在Python 2.x和Python 3.x间自由选择，二者都有良好的支持。</p>\\n<p>但是，Python 2.x在2020年就会到期（包括重要的安全补丁），因此再用Python 2.7就不是好的选择了。因此，本书使用了Python 3.6，这一广泛使用、支持良好的稳定版本。我们已经称Python 2.x为“遗留版本”，简称Python 3.x为“Python”。我建议你也是如此。</p>\\n<p>本书基于Python 3.6。你的Python版本也许高于3.6，但是示例代码应该是向前兼容的。一些示例代码可能在Python 2.7上有所不同，或完全不兼容。</p>\\n<h2>集成开发环境（IDEs）和文本编辑器</h2>\\n<p>当被问到我的标准开发环境，我几乎总是回答“IPython加文本编辑器”。我通常在编程时，反复在IPython或Jupyter notebooks中测试和调试每条代码。也可以交互式操作数据，和可视化验证数据操作中某一特殊集合。在shell中使用pandas和NumPy也很容易。</p>\\n<p>但是，当创建软件时，一些用户可能更想使用特点更为丰富的IDE，而不仅仅是原始的Emacs或Vim的文本编辑器。以下是一些IDE：</p>\\n<ul>\\n<li>PyDev（免费），基于Eclipse平台的IDE；</li>\\n<li>JetBrains的PyCharm（商业用户需要订阅，开源开发者免费）；</li>\\n<li>Visual Studio（Windows用户）的Python Tools；</li>\\n<li>Spyder（免费），Anaconda附带的IDE；</li>\\n<li>Komodo IDE（商业）。</li>\\n</ul>\\n<p>因为Python的流行，大多数文本编辑器，比如Atom和Sublime Text 3，对Python的支持也非常好。</p>\\n<h1>1.5 社区和会议</h1>\\n<p>除了在网上搜索，各式各样的科学和数据相关的Python邮件列表是非常有帮助的，很容易获得回答。包括：</p>\\n<ul>\\n<li>pydata：一个Google群组列表，用以回答Python数据分析和pandas的问题；</li>\\n<li>pystatsmodels： statsmodels或pandas相关的问题；</li>\\n<li>scikit-learn和Python机器学习邮件列表，<a href=\"mailto:scikit-learn@python.org\" target=\"_blank\" rel=\"nofollow\">scikit-learn@python.org</a>；</li>\\n<li>numpy-discussion：和NumPy相关的问题；</li>\\n<li>scipy-user：SciPy和科学计算的问题；</li>\\n</ul>\\n<p>因为这些邮件列表的URLs可以很容易搜索到，但因为可能发生变化，所以没有给出。</p>\\n<p>每年，世界各地会举办许多Python开发者大会。如果你想结识其他有相同兴趣的人，如果可能的话，我建议你去参加一个。许多会议会对无力支付入场费和差旅费的人提供财力帮助。下面是一些会议：</p>\\n<ul>\\n<li>PyCon和EuroPython：北美和欧洲的两大Python会议；</li>\\n<li>SciPy和EuroSciPy：北美和欧洲两大面向科学计算的会议；</li>\\n<li>PyData：世界范围内，一些列的地区性会议，专注数据科学和数据分析；</li>\\n<li>国际和地区的PyCon会议（<a href=\"http://pycon.org\" target=\"_blank\" rel=\"nofollow\">http://pycon.org</a>有完整列表） 。</li>\\n</ul>\\n<h1>1.6 本书导航</h1>\\n<p>如果之前从未使用过Python，那你可能需要先看看本书的第2章和第3章，我简要介绍了Python的特点，IPython和Jupyter notebooks。这些知识是为本书后面的内容做铺垫。如果你已经掌握Python，可以选择跳过。</p>\\n<p>接下来，简单地介绍了NumPy的关键特性，附录A中是更高级的NumPy功能。然后，我介绍了pandas，本书剩余的内容全部是使用pandas、NumPy和matplotlib处理数据分析的问题。我已经尽量让全书的结构循序渐进，但偶尔会有章节之间的交叉，有时用到的概念还没有介绍过。</p>\\n<p>尽管读者各自的工作任务不同，大体可以分为几类：</p>\\n<ul>\\n<li>与外部世界交互<br>\\n阅读编写多种文件格式和数据存储；</li>\\n<li>数据准备<br>\\n清洗、修改、结合、标准化、重塑、切片、切割、转换数据，以进行分析；</li>\\n<li>转换数据<br>\\n对旧的数据集进行数学和统计操作，生成新的数据集（例如，通过各组变量聚类成大的表）；</li>\\n<li>建模和计算<br>\\n将数据绑定统计模型、机器学习算法、或其他计算工具；</li>\\n<li>展示<br>\\n创建交互式和静态的图表可视化和文本总结。</li>\\n</ul>\\n<h2>代码示例</h2>\\n<p>本书大部分代码示例的输入形式和输出结果都会按照其在IPython shell或Jupyter notebooks中执行时的样子进行排版：</p>\\n<pre><code>In [5]: CODE EXAMPLE\\nOut[5]: OUTPUT\\n</code></pre>\\n<p>但你看到类似的示例代码，就是让你在<code>in</code>的部分输入代码，按Enter键执行（Jupyter中是按Shift-Enter）。然后就可以在<code>out</code>看到输出。</p>\\n<h2>示例数据</h2>\\n<p>各章的示例数据都存放在GitHub上：<a href=\"http://github.com/pydata/pydata-book\" target=\"_blank\" rel=\"nofollow\">http://github.com/pydata/pydata-book</a>。下载这些数据的方法有二：使用git版本控制命令行程序；直接从网站上下载该GitHub库的zip文件。如果遇到了问题，可以到我的个人主页，<a href=\"http://wesmckinney.com/\" target=\"_blank\" rel=\"nofollow\">http://wesmckinney.com/</a>，获取最新的指导。</p>\\n<p>为了让所有示例都能重现，我已经尽我所能使其包含所有必需的东西，但仍然可能会有一些错误或遗漏。如果出现这种情况的话，请给我发邮件：<a href=\"mailto:wesmckinn@gmail.com\" target=\"_blank\" rel=\"nofollow\">wesmckinn@gmail.com</a>。报告本书错误的最好方法是O’Reilly的errata页面，<a href=\"http://www.bit.ly/pyDataAnalysis_errata\" target=\"_blank\" rel=\"nofollow\">http://www.bit.ly/pyDataAnalysis_errata</a>。</p>\\n<h2>引入惯例</h2>\\n<p>Python社区已经广泛采取了一些常用模块的命名惯例：</p>\\n<pre><code class=\"python\">import numpy as np\\nimport matplotlib.pyplot as plt\\nimport pandas as pd\\nimport seaborn as sns\\nimport statsmodels as sm\\n</code></pre>\\n<p>也就是说，当你看到np.arange时，就应该想到它引用的是NumPy中的arange函数。这样做的原因是：在Python软件开发过程中，不建议直接引入类似NumPy这种大型库的全部内容（from numpy import *）。</p>\\n<h2>行话</h2>\\n<p>由于你可能不太熟悉书中使用的一些有关编程和数据科学方面的常用术语，所以我在这里先给出其简单定义：</p>\\n<p>数据规整（Munge/Munging/Wrangling）<br>\\n指的是将非结构化和（或）散乱数据处理为结构化或整洁形式的整个过程。这几个词已经悄悄成为当今数据黑客们的行话了。Munge这个词跟Lunge押韵。</p>\\n<p>伪码（Pseudocode）<br>\\n算法或过程的“代码式”描述，而这些代码本身并不是实际有效的源代码。</p>\\n<p>语法糖（Syntactic sugar）<br>\\n这是一种编程语法，它并不会带来新的特性，但却能使代码更易读、更易写。</p>\\n<hr>\\n<p>第1章 准备工作<br>\\n<a href=\"https://www.jianshu.com/p/fc93e943e94a\" target=\"_blank\">第2章 Python语法基础，IPython和Jupyter Notebooks</a><br>\\n<a href=\"https://www.jianshu.com/p/b444cda10aa0\" target=\"_blank\">第3章 Python的数据结构、函数和文件</a><br>\\n<a href=\"https://www.jianshu.com/p/a380222a3292\" target=\"_blank\">第4章 NumPy基础：数组和矢量计算</a><br>\\n<a href=\"https://www.jianshu.com/p/161364dd0acf\" target=\"_blank\">第5章 pandas入门</a><br>\\n<a href=\"https://www.jianshu.com/p/047d8c1c7e14\" target=\"_blank\">第6章 数据加载、存储与文件格式</a><br>\\n<a href=\"https://www.jianshu.com/p/ac7bec000dad\" target=\"_blank\">第7章 数据清洗和准备</a><br>\\n<a href=\"https://www.jianshu.com/p/cfc035bae567\" target=\"_blank\">第8章 数据规整：聚合、合并和重塑</a><br>\\n<a href=\"https://www.jianshu.com/p/7a0eafdd1340\" target=\"_blank\">第9章 绘图和可视化</a><br>\\n<a href=\"https://www.jianshu.com/p/b94deb5c7eb1\" target=\"_blank\">第10章 数据聚合与分组运算</a><br>\\n<a href=\"https://www.jianshu.com/p/29ece4592178\" target=\"_blank\">第11章 时间序列</a><br>\\n<a href=\"https://www.jianshu.com/p/9d093ebcc5d8\" target=\"_blank\">第12章 pandas高级应用</a><br>\\n<a href=\"https://www.jianshu.com/p/e46a1ac36aa5\" target=\"_blank\">第13章 Python建模库介绍</a><br>\\n<a href=\"https://www.jianshu.com/p/72b6c83bb69e\" target=\"_blank\">第14章 数据分析案例</a><br>\\n<a href=\"https://www.jianshu.com/p/3c3f7da88516\" target=\"_blank\">附录A NumPy高级应用</a><br>\\n<a href=\"https://www.jianshu.com/p/fb6719a18cea\" target=\"_blank\">附录B 更多关于IPython的内容（完）</a></p>\\n<hr>\\n\\n          </div>\\n        </div>\\n    </div>\\n\\n    <!-- 如果是付费文章，未购买，则显示购买按钮 -->\\n\\n    <!-- 连载目录项 -->\\n\\n    <!-- 如果是付费文章 -->\\n      <!-- 如果是付费连载，已购买，且作者允许赞赏，则显示付费信息和赞赏 -->\\n        <div data-vcomp=\"free-reward-panel\"></div>\\n\\n      <div class=\"show-foot\">\\n        <a class=\"notebook\" href=\"/nb/19743417\">\\n          <i class=\"iconfont ic-search-notebook\"></i>\\n          <span>利用Python进行数据分析·第2版</span>\\n</a>        <div class=\"copyright\" data-toggle=\"tooltip\" data-html=\"true\" data-original-title=\"转载请联系作者获得授权，并标注“简书作者”。\">\\n          © 著作权归作者所有\\n        </div>\\n        <div class=\"modal-wrap\" data-report-note>\\n          <a id=\"report-modal\">举报文章</a>\\n        </div>\\n      </div>\\n\\n      <!-- 文章底部作者信息 -->\\n        <div class=\"follow-detail\">\\n          <div class=\"info\">\\n            <a class=\"avatar\" href=\"/u/130f76596b02\">\\n              <img src=\"//upload.jianshu.io/users/upload_avatars/7178691/a5c7cd21-a016-4edc-88a6-bfea8bef609c.jpg?imageMogr2/auto-orient/strip|imageView2/1/w/96/h/96\" alt=\"96\" />\\n</a>            <div props-data-classes=\"user-follow-button-footer\" data-author-follow-button></div>\\n            <a class=\"title\" href=\"/u/130f76596b02\">SeanCheney</a>\\n          </div>\\n            <div class=\"signature\">热 · 爱\\r\\n\\r\\n&gt;&gt; 最近在看的书：\\r\\n《图解数据结构·使用Python》\\r\\n《KK三部曲》\\r\\n《Twisted网络编程精要》\\r\\n\\r\\n&gt;&gt; 欢迎指出译稿和其它文章中的错误\\r\\n（又忙起来了。。。）\\r\\n\\r\\n&gt;&gt; 所有文章仅供个人学习不涉及商业利益</div>\\n        </div>\\n\\n    <div class=\"meta-bottom\">\\n      <div class=\"btn like-group\"></div>\\n      <div class=\"share-group\">\\n        <a class=\"share-circle\" data-action=\"weixin-share\" data-toggle=\"tooltip\" data-original-title=\"分享到微信\">\\n          <i class=\"iconfont ic-wechat\"></i>\\n        </a>\\n        <a class=\"share-circle\" data-action=\"weibo-share\" data-toggle=\"tooltip\" href=\"javascript:void((function(s,d,e,r,l,p,t,z,c){var%20f=&#39;http://v.t.sina.com.cn/share/share.php?appkey=1881139527&#39;,u=z||d.location,p=[&#39;&amp;url=&#39;,e(u),&#39;&amp;title=&#39;,e(t||d.title),&#39;&amp;source=&#39;,e(r),&#39;&amp;sourceUrl=&#39;,e(l),&#39;&amp;content=&#39;,c||&#39;gb2312&#39;,&#39;&amp;pic=&#39;,e(p||&#39;&#39;)].join(&#39;&#39;);function%20a(){if(!window.open([f,p].join(&#39;&#39;),&#39;mb&#39;,[&#39;toolbar=0,status=0,resizable=1,width=440,height=430,left=&#39;,(s.width-440)/2,&#39;,top=&#39;,(s.height-430)/2].join(&#39;&#39;)))u.href=[f,p].join(&#39;&#39;);};if(/Firefox/.test(navigator.userAgent))setTimeout(a,0);else%20a();})(screen,document,encodeURIComponent,&#39;&#39;,&#39;&#39;,&#39;http://cwb.assets.jianshu.io/notes/images/19059712/weibo/image_fba08cda98ce.jpg&#39;, &#39;推荐 SeanCheney 的文章《《利用Python进行数据分析·第2版》第1章 准备工作》（ 分享自 @简书 ）&#39;,&#39;https://www.jianshu.com/p/04d180d90a3f?utm_campaign=maleskine&amp;utm_content=note&amp;utm_medium=reader_share&amp;utm_source=weibo&#39;,&#39;页面编码gb2312|utf-8默认gb2312&#39;));\" data-original-title=\"分享到微博\">\\n          <i class=\"iconfont ic-weibo\"></i>\\n        </a>\\n          <a class=\"share-circle\" data-toggle=\"tooltip\" href=\"http://cwb.assets.jianshu.io/notes/images/19059712/weibo/image_fba08cda98ce.jpg\" target=\"_blank\" data-original-title=\"下载长微博图片\">\\n            <i class=\"iconfont ic-picture\"></i>\\n          </a>\\n        <a class=\"share-circle more-share\" tabindex=\"0\" data-toggle=\"popover\" data-placement=\"top\" data-html=\"true\" data-trigger=\"focus\" href=\"javascript:void(0);\" data-content=\\'\\n          <ul class=\"share-list\">\\n            <li><a href=\"javascript:void(function(){var d=document,e=encodeURIComponent,r=&#39;http://sns.qzone.qq.com/cgi-bin/qzshare/cgi_qzshare_onekey?url=&#39;+e(&#39;https://www.jianshu.com/p/04d180d90a3f?utm_campaign=maleskine&amp;utm_content=note&amp;utm_medium=reader_share&amp;utm_source=qzone&#39;)+&#39;&amp;title=&#39;+e(&#39;推荐 SeanCheney 的文章《《利用Python进行数据分析·第2版》第1章 准备工作》&#39;),x=function(){if(!window.open(r,&#39;qzone&#39;,&#39;toolbar=0,resizable=1,scrollbars=yes,status=1,width=600,height=600&#39;))location.href=r};if(/Firefox/.test(navigator.userAgent)){setTimeout(x,0)}else{x()}})();\"><i class=\"social-icon-sprite social-icon-zone\"></i><span>分享到QQ空间</span></a></li>\\n            <li><a href=\"javascript:void(function(){var d=document,e=encodeURIComponent,r=&#39;https://twitter.com/share?url=&#39;+e(&#39;https://www.jianshu.com/p/04d180d90a3f?utm_campaign=maleskine&amp;utm_content=note&amp;utm_medium=reader_share&amp;utm_source=twitter&#39;)+&#39;&amp;text=&#39;+e(&#39;推荐 SeanCheney 的文章《《利用Python进行数据分析·第2版》第1章 准备工作》（ 分享自 @jianshucom ）&#39;)+&#39;&amp;related=&#39;+e(&#39;jianshucom&#39;),x=function(){if(!window.open(r,&#39;twitter&#39;,&#39;toolbar=0,resizable=1,scrollbars=yes,status=1,width=600,height=600&#39;))location.href=r};if(/Firefox/.test(navigator.userAgent)){setTimeout(x,0)}else{x()}})();\"><i class=\"social-icon-sprite social-icon-twitter\"></i><span>分享到Twitter</span></a></li>\\n            <li><a href=\"javascript:void(function(){var d=document,e=encodeURIComponent,r=&#39;https://www.facebook.com/dialog/share?app_id=483126645039390&amp;display=popup&amp;href=https://www.jianshu.com/p/04d180d90a3f?utm_campaign=maleskine&amp;utm_content=note&amp;utm_medium=reader_share&amp;utm_source=facebook&#39;,x=function(){if(!window.open(r,&#39;facebook&#39;,&#39;toolbar=0,resizable=1,scrollbars=yes,status=1,width=450,height=330&#39;))location.href=r};if(/Firefox/.test(navigator.userAgent)){setTimeout(x,0)}else{x()}})();\"><i class=\"social-icon-sprite social-icon-facebook\"></i><span>分享到Facebook</span></a></li>\\n            <li><a href=\"javascript:void(function(){var d=document,e=encodeURIComponent,r=&#39;https://plus.google.com/share?url=&#39;+e(&#39;https://www.jianshu.com/p/04d180d90a3f?utm_campaign=maleskine&amp;utm_content=note&amp;utm_medium=reader_share&amp;utm_source=google_plus&#39;),x=function(){if(!window.open(r,&#39;google_plus&#39;,&#39;toolbar=0,resizable=1,scrollbars=yes,status=1,width=450,height=330&#39;))location.href=r};if(/Firefox/.test(navigator.userAgent)){setTimeout(x,0)}else{x()}})();\"><i class=\"social-icon-sprite social-icon-google\"></i><span>分享到Google+</span></a></li>\\n            <li><a href=\"javascript:void(function(){var d=document,e=encodeURIComponent,s1=window.getSelection,s2=d.getSelection,s3=d.selection,s=s1?s1():s2?s2():s3?s3.createRange().text:&#39;&#39;,r=&#39;http://www.douban.com/recommend/?url=&#39;+e(&#39;https://www.jianshu.com/p/04d180d90a3f?utm_campaign=maleskine&amp;utm_content=note&amp;utm_medium=reader_share&amp;utm_source=douban&#39;)+&#39;&amp;title=&#39;+e(&#39;《利用Python进行数据分析·第2版》第1章 准备工作&#39;)+&#39;&amp;sel=&#39;+e(s)+&#39;&amp;v=1&#39;,x=function(){if(!window.open(r,&#39;douban&#39;,&#39;toolbar=0,resizable=1,scrollbars=yes,status=1,width=450,height=330&#39;))location.href=r+&#39;&amp;r=1&#39;};if(/Firefox/.test(navigator.userAgent)){setTimeout(x,0)}else{x()}})()\"><i class=\"social-icon-sprite social-icon-douban\"></i><span>分享到豆瓣</span></a></li>\\n          </ul>\\n        \\'>更多分享</a>\\n      </div>\\n    </div>\\n      <a id=\"web-note-ad-1\" target=\"_blank\" href=\"/apps/redirect?utm_source=note-bottom-click\"><img src=\"//cdn2.jianshu.io/assets/web/web-note-ad-1-c2e1746859dbf03abe49248893c9bea4.png\" alt=\"Web note ad 1\" /></a>\\n    <div id=\"vue_comment\"></div>\\n  </div>\\n\\n  <div class=\"vue-side-tool\" props-data-props-show-qr-code=\"0\"></div>\\n</div>\\n<div class=\"note-bottom\">\\n  <div class=\"js-included-collections\"></div>\\n  <div data-vcomp=\"recommended-notes\" data-lazy=\"1.5\" data-note-id=\"19059712\"></div>\\n  <!-- 相关文章 -->\\n  <div class=\"seo-recommended-notes\">\\n  </div>\\n</div>\\n\\n    <script type=\"application/json\" data-name=\"page-data\">{\"user_signed_in\":false,\"locale\":\"zh-CN\",\"os\":\"windows\",\"read_mode\":null,\"read_font\":null,\"note_show\":{\"is_author\":false,\"is_following_author\":false,\"is_liked_note\":false,\"follow_state\":0,\"uuid\":\"8649bef2-374c-4c26-a753-59a297d90662\"},\"note\":{\"id\":19059712,\"slug\":\"04d180d90a3f\",\"user_id\":7178691,\"notebook_id\":19743417,\"commentable\":true,\"likes_count\":401,\"views_count\":46619,\"public_wordage\":7958,\"comments_count\":39,\"featured_comments_count\":1,\"total_rewards_count\":7,\"is_author\":false,\"paid_type\":\"free\",\"paid\":false,\"paid_content_accessible\":false,\"author\":{\"nickname\":\"SeanCheney\",\"total_wordage\":341815,\"followers_count\":2327,\"total_likes_count\":1495}}}</script>\\n    \\n    <script src=\"//cdn2.jianshu.io/assets/babel-polyfill-e9c9b9785eb2c39c58e4.js\" crossorigin=\"anonymous\"></script>\\n    <script src=\"//cdn2.jianshu.io/assets/web-base-6df869a28e69fb95b734.js\" crossorigin=\"anonymous\"></script>\\n<script src=\"//cdn2.jianshu.io/assets/web-ae157e8bbcfa8575bb4a.js\" crossorigin=\"anonymous\"></script>\\n    \\n    <script src=\"//cdn2.jianshu.io/assets/web/pages/notes/show/entry-8122b69d25bb6d75bcd0.js\" crossorigin=\"anonymous\"></script>\\n    <script>\\n  (function(){\\n      var bp = document.createElement(\\'script\\');\\n      var curProtocol = window.location.protocol.split(\\':\\')[0];\\n      if (curProtocol === \\'https\\') {\\n          bp.src = \\'https://zz.bdstatic.com/linksubmit/push.js\\';\\n      }\\n      else {\\n          bp.src = \\'http://push.zhanzhang.baidu.com/push.js\\';\\n      }\\n      var s = document.getElementsByTagName(\"script\")[0];\\n      s.parentNode.insertBefore(bp, s);\\n  })();\\n</script>\\n\\n  </body>\\n</html>\\n'"
      ]
     },
     "execution_count": 25,
     "metadata": {},
     "output_type": "execute_result"
    }
   ],
   "source": [
    "html_1.text"
   ]
  },
  {
   "cell_type": "code",
   "execution_count": 56,
   "metadata": {
    "collapsed": false
   },
   "outputs": [],
   "source": [
    "temp = bsj[0].select_one('p > a[href*=www.jianshu]')"
   ]
  },
  {
   "cell_type": "code",
   "execution_count": 59,
   "metadata": {
    "collapsed": false
   },
   "outputs": [
    {
     "data": {
      "text/plain": [
       "[<a href=\"https://www.jianshu.com/p/04d180d90a3f\" target=\"_blank\">第1章 准备工作</a>,\n",
       " <a href=\"https://www.jianshu.com/p/161364dd0acf\" target=\"_blank\">第5章 pandas入门</a>,\n",
       " <a href=\"https://www.jianshu.com/p/b444cda10aa0\" target=\"_blank\">第3章 Python的数据结构、函数和文件</a>,\n",
       " <a href=\"https://www.jianshu.com/p/fc93e943e94a\" target=\"_blank\">第2章 Python语法基础，IPython和Jupyter</a>,\n",
       " <a href=\"https://www.jianshu.com/p/72b6c83bb69e\" target=\"_blank\">第14章 数据分析案例</a>,\n",
       " <a href=\"https://www.jianshu.com/p/9d093ebcc5d8\" target=\"_blank\">第12章 pandas高级应用</a>,\n",
       " <a href=\"https://www.jianshu.com/p/ac7bec000dad\" target=\"_blank\">第7章 数据清洗和准备</a>,\n",
       " <a href=\"https://www.jianshu.com/p/3c3f7da88516\" target=\"_blank\">附录A NumPy高级应用</a>,\n",
       " <a href=\"https://www.jianshu.com/p/29ece4592178\" target=\"_blank\">第11章 时间序列</a>,\n",
       " <a href=\"https://www.jianshu.com/p/7a0eafdd1340\" target=\"_blank\">第9章 绘图和可视化</a>,\n",
       " <a href=\"https://www.jianshu.com/p/a380222a3292\" target=\"_blank\">第4章 NumPy基础：数组和矢量计算</a>,\n",
       " <a href=\"https://www.jianshu.com/p/e46a1ac36aa5\" target=\"_blank\">第13章 Python建模库介绍</a>,\n",
       " <a href=\"https://www.jianshu.com/p/047d8c1c7e14\" target=\"_blank\">第6章 数据加载、存储与文件格式</a>,\n",
       " <a href=\"https://www.jianshu.com/p/cfc035bae567\" target=\"_blank\">第8章 数据规整：聚合、合并和重塑</a>,\n",
       " <a href=\"https://www.jianshu.com/p/b94deb5c7eb1\" target=\"_blank\">第10章 数据聚合与分组运算</a>]"
      ]
     },
     "execution_count": 59,
     "metadata": {},
     "output_type": "execute_result"
    }
   ],
   "source": [
    "list(set(temp))"
   ]
  },
  {
   "cell_type": "code",
   "execution_count": 34,
   "metadata": {
    "collapsed": false
   },
   "outputs": [
    {
     "data": {
      "text/plain": [
       "[<p>后记：经过三个月，总算翻译完成了这本书。工作砌码，回家码字。最大的改变是，十个手指头，除了两个大拇指和右手的小拇指，其它指尖竟然磨出了茧。读者们持续的阅读、点赞、留言、指出错误，让我感觉是和很多人一起完成一项有意义的事情。Thanks all！</p>]"
      ]
     },
     "execution_count": 34,
     "metadata": {},
     "output_type": "execute_result"
    }
   ],
   "source": [
    "temp = bsj[0].select('p')\n",
    "bsj[0].select('p:nth-of-type(101)')"
   ]
  },
  {
   "cell_type": "code",
   "execution_count": 43,
   "metadata": {
    "collapsed": true
   },
   "outputs": [],
   "source": [
    "bsj = bsj[0]"
   ]
  },
  {
   "cell_type": "code",
   "execution_count": 44,
   "metadata": {
    "collapsed": true
   },
   "outputs": [],
   "source": [
    "bsj_a = bsj.select('a[href*=www.jianshu.com]')"
   ]
  },
  {
   "cell_type": "code",
   "execution_count": 49,
   "metadata": {
    "collapsed": false
   },
   "outputs": [],
   "source": [
    "bsj_a[-1].parent.decompose()"
   ]
  },
  {
   "cell_type": "code",
   "execution_count": 50,
   "metadata": {
    "collapsed": true
   },
   "outputs": [
    {
     "data": {
      "text/plain": [
       "<div class=\"show-content-free\">\n",
       "<hr/>\n",
       "\n",
       "<hr/>\n",
       "<p>第2章中，我们学习了IPython shell和Jupyter notebook的基础。本章中，我们会探索IPython更深层次的功能，可以从控制台或在jupyter使用。</p>\n",
       "<h1>B.1 使用命令历史</h1>\n",
       "<p>Ipython维护了一个位于磁盘的小型数据库，用于保存执行的每条指令。它的用途有：</p>\n",
       "<ul>\n",
       "<li>只用最少的输入，就能搜索、补全和执行先前运行过的指令；</li>\n",
       "<li>在不同session间保存命令历史；</li>\n",
       "<li>将日志输入/输出历史到一个文件</li>\n",
       "</ul>\n",
       "<p>这些功能在shell中，要比notebook更为有用，因为notebook从设计上是将输入和输出的代码放到每个代码格子中。</p>\n",
       "<h2>搜索和重复使用命令历史</h2>\n",
       "<p>Ipython可以让你搜索和执行之前的代码或其他命令。这个功能非常有用，因为你可能需要重复执行同样的命令，例如%run命令，或其它代码。假设你必须要执行：</p>\n",
       "<pre><code class=\"python\">In[7]: %run first/second/third/data_script.py\n",
       "</code></pre>\n",
       "<p>运行成功，然后检查结果，发现计算有错。解决完问题，然后修改了data_script.py，你就可以输入一些%run命令，然后按Ctrl+P或上箭头。这样就可以搜索历史命令，匹配输入字符的命令。多次按Ctrl+P或上箭头，会继续搜索命令。如果你要执行你想要执行的命令，不要害怕。你可以按下Ctrl-N或下箭头，向前移动历史命令。这样做了几次后，你可以不假思索地按下这些键！</p>\n",
       "<p>Ctrl-R可以带来如同Unix风格shell（比如bash shell）的readline的部分增量搜索功能。在Windows上，readline功能是被IPython模仿的。要使用这个功能，先按Ctrl-R，然后输入一些包含于输入行的想要搜索的字符：</p>\n",
       "<pre><code class=\"python\">In [1]: a_command = foo(x, y, z)\n",
       "\n",
       "(reverse-i-search)`com': a_command = foo(x, y, z)\n",
       "</code></pre>\n",
       "<p>Ctrl-R会循环历史，找到匹配字符的每一行。</p>\n",
       "<h2>输入和输出变量</h2>\n",
       "<p>&lt;textarea class=\"textarea small-font\" id=\"baidu_translate_input\" data-height=\"70\" style=\"height: 70px; overflow: hidden;\"&gt;&lt;/textarea&gt;</p>\n",
       "<p><a href=\"https://link.jianshu.com?t=http%3A%2F%2Ffanyi.baidu.com%2Ftranslate%3Faldtype%3D16047%26query%3DIf%2Byou%2Bpass%2Bover%2Bthe%2Bcommand%2Byou%2Bwish%2Bto%2Bexecute%252C%2Bfear%2Bnot.%2BYou%2Bcan%2Bmove%2Bforward%2Bthrough%2Bthe%2Bcommand%2Bhistory%2Bby%2Bpressing%2Beither%2BCtrl-N%2Bor%2Bthe%2Bdown%2Barrow%2Bkey.%2BAfter%2Bdoing%2Bthis%2Ba%2Bfew%2Btimes%252C%2Byou%2Bmay%2Bstart%2Bpressing%2Bthese%2Bkeys%2Bwithout%2Bthinking%2521%26keyfrom%3Dbaidu%26smartresult%3Ddict%26lang%3Dauto2zh%23%23%23\" rel=\"nofollow\" target=\"_blank\"></a></p>\n",
       "<p>[](javascript:void(0); \"添加到收藏夹\")</p>\n",
       "<p>忘记将函数调用的结果分配给变量是非常烦人的。IPython的一个session会在一个特殊变量，存储输入和输出Python对象的引用。前面两个输出会分别存储在<em>（一个下划线）和</em>_（两个下划线）变量：</p>\n",
       "<pre><code class=\"python\">In [24]: 2 ** 27\n",
       "Out[24]: 134217728\n",
       "\n",
       "In [25]: _\n",
       "Out[25]: 134217728\n",
       "</code></pre>\n",
       "<p>输入变量是存储在名字类似_iX的变量中，X是输入行的编号。对于每个输入变量，都有一个对应的输出变量_X。因此在输入第27行之后，会有两个新变量_27 （输出）和_i27（输入）:</p>\n",
       "<pre><code class=\"python\">In [26]: foo = 'bar'\n",
       "\n",
       "In [27]: foo\n",
       "Out[27]: 'bar'\n",
       "\n",
       "In [28]: _i27\n",
       "Out[28]: u'foo'\n",
       "\n",
       "In [29]: _27\n",
       "Out[29]: 'bar'\n",
       "</code></pre>\n",
       "<p>因为输入变量是字符串，它们可以用Python的exec关键字再次执行：</p>\n",
       "<pre><code class=\"python\">In [30]: exec(_i27)\n",
       "</code></pre>\n",
       "<p>这里，_i27是在In [27]输入的代码。</p>\n",
       "<p>有几个魔术函数可以让你利用输入和输出历史。%hist可以打印所有或部分的输入历史，加上或不加上编号。%reset可以清理交互命名空间，或输入和输出缓存。%xdel魔术函数可以去除IPython中对一个特别对象的所有引用。对于关于这些魔术方法的更多内容，请查看文档。</p>\n",
       "<blockquote>\n",
       "<p>警告：当处理非常大的数据集时，要记住IPython的输入和输出的历史会造成被引用的对象不被垃圾回收（释放内存），即使你使用del关键字从交互命名空间删除变量。在这种情况下，小心使用xdel %和%reset可以帮助你避免陷入内存问题。</p>\n",
       "</blockquote>\n",
       "<h1>B.2 与操作系统交互</h1>\n",
       "<p>IPython的另一个功能是无缝连接文件系统和操作系统。这意味着，在同时做其它事时，无需退出IPython，就可以像Windows或Unix使用命令行操作，包括shell命令、更改目录、用Python对象（列表或字符串）存储结果。它还有简单的命令别名和目录书签功能。</p>\n",
       "<p>表B-1总结了调用shell命令的魔术函数和语法。我会在下面几节介绍这些功能。</p>\n",
       "<div class=\"image-package\">\n",
       "<div class=\"image-container\" style=\"max-width: 700px; max-height: 407px;\">\n",
       "<div class=\"image-container-fill\" style=\"padding-bottom: 51.449999999999996%;\"></div>\n",
       "<div class=\"image-view\" data-height=\"407\" data-width=\"791\"><img data-original-filesize=\"26055\" data-original-format=\"image/png\" data-original-height=\"407\" data-original-src=\"//upload-images.jianshu.io/upload_images/7178691-4da7ee14be2da211.png\" data-original-width=\"791\"/></div>\n",
       "</div>\n",
       "<div class=\"image-caption\">表B-1 IPython系统相关命令</div>\n",
       "</div>\n",
       "<h2>Shell命令和别名</h2>\n",
       "<p>用叹号开始一行，是告诉IPython执行叹号后面的所有内容。这意味着你可以删除文件（取决于操作系统，用rm或del）、改变目录或执行任何其他命令。</p>\n",
       "<p>通过给变量加上叹号，你可以在一个变量中存储命令的控制台输出。例如，在我联网的基于Linux的主机上，我可以获得IP地址为Python变量：</p>\n",
       "<pre><code class=\"python\">In [1]: ip_info = !ifconfig wlan0 | grep \"inet \"\n",
       "\n",
       "In [2]: ip_info[0].strip()\n",
       "Out[2]: 'inet addr:10.0.0.11  Bcast:10.0.0.255  Mask:255.255.255.0'\n",
       "</code></pre>\n",
       "<p>返回的Python对象ip_info实际上是一个自定义的列表类型，它包含着多种版本的控制台输出。</p>\n",
       "<p>当使用！，IPython还可以替换定义在当前环境的Python值。要这么做，可以在变量名前面加上$符号：</p>\n",
       "<pre><code class=\"python\">In [3]: foo = 'test*'\n",
       "\n",
       "In [4]: !ls $foo\n",
       "test4.py  test.py  test.xml\n",
       "</code></pre>\n",
       "<p>%alias魔术函数可以自定义shell命令的快捷方式。看一个简单的例子：</p>\n",
       "<pre><code class=\"python\">In [1]: %alias ll ls -l\n",
       "\n",
       "In [2]: ll /usr\n",
       "total 332\n",
       "drwxr-xr-x   2 root root  69632 2012-01-29 20:36 bin/\n",
       "drwxr-xr-x   2 root root   4096 2010-08-23 12:05 games/\n",
       "drwxr-xr-x 123 root root  20480 2011-12-26 18:08 include/\n",
       "drwxr-xr-x 265 root root 126976 2012-01-29 20:36 lib/\n",
       "drwxr-xr-x  44 root root  69632 2011-12-26 18:08 lib32/\n",
       "lrwxrwxrwx   1 root root      3 2010-08-23 16:02 lib64 -&gt; lib/\n",
       "drwxr-xr-x  15 root root   4096 2011-10-13 19:03 local/\n",
       "drwxr-xr-x   2 root root  12288 2012-01-12 09:32 sbin/\n",
       "drwxr-xr-x 387 root root  12288 2011-11-04 22:53 share/\n",
       "drwxrwsr-x  24 root src    4096 2011-07-17 18:38 src/\n",
       "</code></pre>\n",
       "<p>你可以执行多个命令，就像在命令行中一样，只需用分号隔开：</p>\n",
       "<pre><code class=\"python\">In [558]: %alias test_alias (cd examples; ls; cd ..)\n",
       "\n",
       "In [559]: test_alias\n",
       "macrodata.csv  spx.csv  tips.csv\n",
       "</code></pre>\n",
       "<p>当session结束，你定义的别名就会失效。要创建恒久的别名，需要使用配置。</p>\n",
       "<h2>目录书签系统</h2>\n",
       "<p>IPython有一个简单的目录书签系统，可以让你保存常用目录的别名，这样在跳来跳去的时候会非常方便。例如，假设你想创建一个书签，指向本书的补充内容：</p>\n",
       "<pre><code class=\"python\">In [6]: %bookmark py4da /home/wesm/code/pydata-book\n",
       "</code></pre>\n",
       "<p>这么做之后，当使用%cd魔术命令，就可以使用定义的书签：</p>\n",
       "<pre><code class=\"python\">In [7]: cd py4da\n",
       "(bookmark:py4da) -&gt; /home/wesm/code/pydata-book\n",
       "/home/wesm/code/pydata-book\n",
       "</code></pre>\n",
       "<p>如果书签的名字，与当前工作目录的一个目录重名，你可以使用-b标志来覆写，使用书签的位置。使用%bookmark的-l选项，可以列出所有的书签：</p>\n",
       "<pre><code class=\"python\">In [8]: %bookmark -l\n",
       "Current bookmarks:\n",
       "py4da -&gt; /home/wesm/code/pydata-book-source\n",
       "</code></pre>\n",
       "<p>书签，和别名不同，在session之间是保持的。</p>\n",
       "<h1>B.3 软件开发工具</h1>\n",
       "<p>除了作为优秀的交互式计算和数据探索环境，IPython也是有效的Python软件开发工具。在数据分析中，最重要的是要有正确的代码。幸运的是，IPython紧密集成了和加强了Python内置的pdb调试器。第二，需要快速的代码。对于这点，IPython有易于使用的代码计时和分析工具。我会详细介绍这些工具。</p>\n",
       "<h2>交互调试器</h2>\n",
       "<p>IPython的调试器用tab补全、语法增强、逐行异常追踪增强了pdb。调试代码的最佳时间就是刚刚发生错误。异常发生之后就输入%debug，就启动了调试器，进入抛出异常的堆栈框架：</p>\n",
       "<pre><code class=\"python\">In [2]: run examples/ipython_bug.py\n",
       "---------------------------------------------------------------------------\n",
       "AssertionError                            Traceback (most recent call last)\n",
       "/home/wesm/code/pydata-book/examples/ipython_bug.py in &lt;module&gt;()\n",
       "     13     throws_an_exception()\n",
       "     14\n",
       "---&gt; 15 calling_things()\n",
       "\n",
       "/home/wesm/code/pydata-book/examples/ipython_bug.py in calling_things()\n",
       "11 def calling_things():\n",
       "     12     works_fine()\n",
       "---&gt; 13     throws_an_exception()\n",
       "     14\n",
       "     15 calling_things()\n",
       "\n",
       "/home/wesm/code/pydata-book/examples/ipython_bug.py in throws_an_exception()\n",
       "      7     a = 5\n",
       "      8     b = 6\n",
       "----&gt; 9     assert(a + b == 10)\n",
       "     10\n",
       "     11 def calling_things():\n",
       "\n",
       "AssertionError:\n",
       "\n",
       "In [3]: %debug\n",
       "&gt; /home/wesm/code/pydata-book/examples/ipython_bug.py(9)throws_an_exception()\n",
       "      8     b = 6\n",
       "----&gt; 9     assert(a + b == 10)\n",
       "     10\n",
       "\n",
       "ipdb&gt;\n",
       "</code></pre>\n",
       "<p>一旦进入调试器，你就可以执行任意的Python代码，在每个堆栈框架中检查所有的对象和数据（解释器会保持它们活跃）。默认是从错误发生的最低级开始。通过u（up）和d（down），你可以在不同等级的堆栈踪迹切换：</p>\n",
       "<pre><code class=\"python\">ipdb&gt; u\n",
       "&gt; /home/wesm/code/pydata-book/examples/ipython_bug.py(13)calling_things()\n",
       "     12     works_fine()\n",
       "---&gt; 13     throws_an_exception()\n",
       "     14\n",
       "</code></pre>\n",
       "<p>执行%pdb命令，可以在发生任何异常时让IPython自动启动调试器，许多用户会发现这个功能非常好用。</p>\n",
       "<p>用调试器帮助开发代码也很容易，特别是当你希望设置断点或在函数和脚本间移动，以检查每个阶段的状态。有多种方法可以实现。第一种是使用%run和-d，它会在执行传入脚本的任何代码之前调用调试器。你必须马上按s（step）以进入脚本：</p>\n",
       "<pre><code class=\"python\">In [5]: run -d examples/ipython_bug.py\n",
       "Breakpoint 1 at /home/wesm/code/pydata-book/examples/ipython_bug.py:1\n",
       "NOTE: Enter 'c' at the ipdb&gt;  prompt to start your script.\n",
       "&gt; &lt;string&gt;(1)&lt;module&gt;()\n",
       "\n",
       "ipdb&gt; s\n",
       "--Call--\n",
       "&gt; /home/wesm/code/pydata-book/examples/ipython_bug.py(1)&lt;module&gt;()\n",
       "1---&gt; 1 def works_fine():\n",
       "      2     a = 5\n",
       "      3     b = 6\n",
       "</code></pre>\n",
       "<p>然后，你就可以决定如何工作。例如，在前面的异常，我们可以设置一个断点，就在调用works_fine之前，然后运行脚本，在遇到断点时按c（continue）：</p>\n",
       "<pre><code class=\"python\">ipdb&gt; b 12\n",
       "ipdb&gt; c\n",
       "&gt; /home/wesm/code/pydata-book/examples/ipython_bug.py(12)calling_things()\n",
       "     11 def calling_things():\n",
       "2--&gt; 12     works_fine()\n",
       "     13     throws_an_exception()\n",
       "</code></pre>\n",
       "<p>这时，你可以step进入works_fine()，或通过按n（next）执行works_fine()，进入下一行：</p>\n",
       "<pre><code class=\"python\">ipdb&gt; n\n",
       "&gt; /home/wesm/code/pydata-book/examples/ipython_bug.py(13)calling_things()\n",
       "2    12     works_fine()\n",
       "---&gt; 13     throws_an_exception()\n",
       "     14\n",
       "</code></pre>\n",
       "<p>然后，我们可以进入throws_an_exception，到达发生错误的一行，查看变量。注意，调试器的命令是在变量名之前，在变量名前面加叹号！可以查看内容：</p>\n",
       "<pre><code class=\"python\">ipdb&gt; s\n",
       "--Call--\n",
       "&gt; /home/wesm/code/pydata-book/examples/ipython_bug.py(6)throws_an_exception()\n",
       "      5\n",
       "----&gt; 6 def throws_an_exception():\n",
       "      7     a = 5\n",
       "\n",
       "ipdb&gt; n\n",
       "&gt; /home/wesm/code/pydata-book/examples/ipython_bug.py(7)throws_an_exception()\n",
       "      6 def throws_an_exception():\n",
       "----&gt; 7     a = 5\n",
       "      8     b = 6\n",
       "\n",
       "ipdb&gt; n\n",
       "&gt; /home/wesm/code/pydata-book/examples/ipython_bug.py(8)throws_an_exception()\n",
       "      7     a = 5\n",
       "----&gt; 8     b = 6\n",
       "      9     assert(a + b == 10)\n",
       "\n",
       "ipdb&gt; n\n",
       "&gt; /home/wesm/code/pydata-book/examples/ipython_bug.py(9)throws_an_exception()\n",
       "      8     b = 6\n",
       "----&gt; 9     assert(a + b == 10)\n",
       "     10\n",
       "\n",
       "ipdb&gt; !a\n",
       "5\n",
       "ipdb&gt; !b\n",
       "6\n",
       "</code></pre>\n",
       "<p>提高使用交互式调试器的熟练度需要练习和经验。表B-2,列出了所有调试器命令。如果你习惯了IDE，你可能觉得终端的调试器在一开始会不顺手，但会觉得越来越好用。一些Python的IDEs有很好的GUI调试器，选择顺手的就好。</p>\n",
       "<div class=\"image-package\">\n",
       "<div class=\"image-container\" style=\"max-width: 700px; max-height: 466px;\">\n",
       "<div class=\"image-container-fill\" style=\"padding-bottom: 57.38999999999999%;\"></div>\n",
       "<div class=\"image-view\" data-height=\"466\" data-width=\"812\"><img data-original-filesize=\"28244\" data-original-format=\"image/png\" data-original-height=\"466\" data-original-src=\"//upload-images.jianshu.io/upload_images/7178691-90a4b17e20b5b03a.png\" data-original-width=\"812\"/></div>\n",
       "</div>\n",
       "<div class=\"image-caption\">表B-2 IPython调试器命令</div>\n",
       "</div>\n",
       "<h2>使用调试器的其它方式</h2>\n",
       "<p>还有一些其它工作可以用到调试器。第一个是使用特殊的set_trace函数（根据pdb.set_trace命名的），这是一个简装的断点。还有两种方法是你可能想用的（像我一样，将其添加到IPython的配置）：</p>\n",
       "<pre><code class=\"python\">from IPython.core.debugger import Pdb\n",
       "\n",
       "def set_trace():\n",
       "    Pdb(color_scheme='Linux').set_trace(sys._getframe().f_back)\n",
       "\n",
       "def debug(f, *args, **kwargs):\n",
       "    pdb = Pdb(color_scheme='Linux')\n",
       "    return pdb.runcall(f, *args, **kwargs)\n",
       "</code></pre>\n",
       "<p>第一个函数set_trace非常简单。如果你想暂时停下来进行仔细检查（比如发生异常之前），可以在代码的任何位置使用set_trace：</p>\n",
       "<pre><code class=\"python\">In [7]: run examples/ipython_bug.py\n",
       "&gt; /home/wesm/code/pydata-book/examples/ipython_bug.py(16)calling_things()\n",
       "     15     set_trace()\n",
       "---&gt; 16     throws_an_exception()\n",
       "     17\n",
       "</code></pre>\n",
       "<p>按c（continue）可以让代码继续正常行进。</p>\n",
       "<p>我们刚看的debug函数，可以让你方便的在调用任何函数时使用调试器。假设我们写了一个下面的函数，想逐步分析它的逻辑：</p>\n",
       "<pre><code class=\"python\">def f(x, y, z=1):\n",
       "    tmp = x + y\n",
       "    return tmp / z\n",
       "</code></pre>\n",
       "<p>普通地使用f，就会像f(1, 2, z=3)。而要想进入f，将f作为第一个参数传递给debug，再将位置和关键词参数传递给f：</p>\n",
       "<pre><code class=\"python\">In [6]: debug(f, 1, 2, z=3)\n",
       "&gt; &lt;ipython-input&gt;(2)f()\n",
       "      1 def f(x, y, z):\n",
       "----&gt; 2     tmp = x + y\n",
       "      3     return tmp / z\n",
       "\n",
       "ipdb&gt;\n",
       "</code></pre>\n",
       "<p>这两个简单方法节省了我平时的大量时间。</p>\n",
       "<p>最后，调试器可以和%run一起使用。脚本通过运行%run -d，就可以直接进入调试器，随意设置断点并启动脚本：</p>\n",
       "<pre><code class=\"python\">In [1]: %run -d examples/ipython_bug.py\n",
       "Breakpoint 1 at /home/wesm/code/pydata-book/examples/ipython_bug.py:1\n",
       "NOTE: Enter 'c' at the ipdb&gt;  prompt to start your script.\n",
       "&gt; &lt;string&gt;(1)&lt;module&gt;()\n",
       "\n",
       "ipdb&gt;\n",
       "</code></pre>\n",
       "<p>加上-b和行号，可以预设一个断点：</p>\n",
       "<pre><code class=\"python\">In [2]: %run -d -b2 examples/ipython_bug.py\n",
       "\n",
       "Breakpoint 1 at /home/wesm/code/pydata-book/examples/ipython_bug.py:2\n",
       "NOTE: Enter 'c' at the ipdb&gt;  prompt to start your script.\n",
       "&gt; &lt;string&gt;(1)&lt;module&gt;()\n",
       "\n",
       "ipdb&gt; c\n",
       "&gt; /home/wesm/code/pydata-book/examples/ipython_bug.py(2)works_fine()\n",
       "      1 def works_fine():\n",
       "1---&gt; 2     a = 5\n",
       "      3     b = 6\n",
       "\n",
       "ipdb&gt;\n",
       "</code></pre>\n",
       "<h2>代码计时：%time 和 %timeit</h2>\n",
       "<p>对于大型和长时间运行的数据分析应用，你可能希望测量不同组件或单独函数调用语句的执行时间。你可能想知道哪个函数占用的时间最长。幸运的是，IPython可以让你开发和测试代码时，很容易地获得这些信息。</p>\n",
       "<p>手动用time模块和它的函数time.clock和time.time给代码计时，既单调又重复，因为必须要写一些无趣的模板化代码：</p>\n",
       "<pre><code class=\"python\">import time\n",
       "start = time.time()\n",
       "for i in range(iterations):\n",
       "    # some code to run here\n",
       "elapsed_per = (time.time() - start) / iterations\n",
       "</code></pre>\n",
       "<p>因为这是一个很普通的操作，IPython有两个魔术函数，%time和%timeit，可以自动化这个过程。</p>\n",
       "<p>%time会运行一次语句，报告总共的执行时间。假设我们有一个大的字符串列表，我们想比较不同的可以挑选出特定开头字符串的方法。这里有一个含有600000字符串的列表，和两个方法，用以选出foo开头的字符串：</p>\n",
       "<pre><code class=\"python\"># a very large list of strings\n",
       "strings = ['foo', 'foobar', 'baz', 'qux',\n",
       "           'python', 'Guido Van Rossum'] * 100000\n",
       "\n",
       "method1 = [x for x in strings if x.startswith('foo')]\n",
       "\n",
       "method2 = [x for x in strings if x[:3] == 'foo']\n",
       "</code></pre>\n",
       "<p>看起来它们的性能应该是同级别的，但事实呢？用%time进行一下测量：</p>\n",
       "<pre><code class=\"python\">In [561]: %time method1 = [x for x in strings if x.startswith('foo')]\n",
       "CPU times: user 0.19 s, sys: 0.00 s, total: 0.19 s\n",
       "Wall time: 0.19 s\n",
       "\n",
       "In [562]: %time method2 = [x for x in strings if x[:3] == 'foo']\n",
       "CPU times: user 0.09 s, sys: 0.00 s, total: 0.09 s\n",
       "Wall time: 0.09 s\n",
       "</code></pre>\n",
       "<p>Wall time（wall-clock time的简写）是主要关注的。第一个方法是第二个方法的两倍多，但是这种测量方法并不准确。如果用%time多次测量，你就会发现结果是变化的。要想更准确，可以使用%timeit魔术函数。给出任意一条语句，它能多次运行这条语句以得到一个更为准确的时间：</p>\n",
       "<pre><code class=\"python\">In [563]: %timeit [x for x in strings if x.startswith('foo')]\n",
       "10 loops, best of 3: 159 ms per loop\n",
       "\n",
       "In [564]: %timeit [x for x in strings if x[:3] == 'foo']\n",
       "10 loops, best of 3: 59.3 ms per loop\n",
       "</code></pre>\n",
       "<p>这个例子说明了解Python标准库、NumPy、pandas和其它库的性能是很有价值的。在大型数据分析中，这些毫秒的时间就会累积起来！</p>\n",
       "<p>%timeit特别适合分析执行时间短的语句和函数，即使是微秒或纳秒。这些时间可能看起来毫不重要，但是一个20微秒的函数执行1百万次就比一个5微秒的函数长15秒。在上一个例子中，我们可以直接比较两个字符串操作，以了解它们的性能特点：</p>\n",
       "<pre><code class=\"python\">In [565]: x = 'foobar'\n",
       "\n",
       "In [566]: y = 'foo'\n",
       "\n",
       "In [567]: %timeit x.startswith(y)\n",
       "1000000 loops, best of 3: 267 ns per loop\n",
       "\n",
       "In [568]: %timeit x[:3] == y\n",
       "10000000 loops, best of 3: 147 ns per loop\n",
       "</code></pre>\n",
       "<h2>基础分析：%prun和%run -p</h2>\n",
       "<p>分析代码与代码计时关系很紧密，除了它关注的是“时间花在了哪里”。Python主要的分析工具是cProfile模块，它并不局限于IPython。cProfile会执行一个程序或任意的代码块，并会跟踪每个函数执行的时间。</p>\n",
       "<p>使用cProfile的通常方式是在命令行中运行一整段程序，输出每个函数的累积时间。假设我们有一个简单的在循环中进行线型代数运算的脚本（计算一系列的100×100矩阵的最大绝对特征值）：</p>\n",
       "<pre><code class=\"python\">import numpy as np\n",
       "from numpy.linalg import eigvals\n",
       "\n",
       "def run_experiment(niter=100):\n",
       "    K = 100\n",
       "    results = []\n",
       "    for _ in xrange(niter):\n",
       "        mat = np.random.randn(K, K)\n",
       "        max_eigenvalue = np.abs(eigvals(mat)).max()\n",
       "        results.append(max_eigenvalue)\n",
       "    return results\n",
       "some_results = run_experiment()\n",
       "print 'Largest one we saw: %s' % np.max(some_results)\n",
       "</code></pre>\n",
       "<p>你可以用cProfile运行这个脚本，使用下面的命令行：</p>\n",
       "<pre><code>python -m cProfile cprof_example.py\n",
       "</code></pre>\n",
       "<p>运行之后，你会发现输出是按函数名排序的。这样要看出谁耗费的时间多有点困难，最好用-s指定排序：</p>\n",
       "<pre><code class=\"python\">$ python -m cProfile -s cumulative cprof_example.py\n",
       "Largest one we saw: 11.923204422\n",
       "    15116 function calls (14927 primitive calls) in 0.720 seconds\n",
       "\n",
       "Ordered by: cumulative time\n",
       "\n",
       "ncalls  tottime  percall  cumtime  percall filename:lineno(function)\n",
       "     1    0.001    0.001    0.721    0.721 cprof_example.py:1(&lt;module&gt;)\n",
       "   100    0.003    0.000    0.586    0.006 linalg.py:702(eigvals)\n",
       "   200    0.572    0.003    0.572    0.003 {numpy.linalg.lapack_lite.dgeev}\n",
       "     1    0.002    0.002    0.075    0.075 __init__.py:106(&lt;module&gt;)\n",
       "   100    0.059    0.001    0.059    0.001 {method 'randn')\n",
       "     1    0.000    0.000    0.044    0.044 add_newdocs.py:9(&lt;module&gt;)\n",
       "     2    0.001    0.001    0.037    0.019 __init__.py:1(&lt;module&gt;)\n",
       "     2    0.003    0.002    0.030    0.015 __init__.py:2(&lt;module&gt;)\n",
       "     1    0.000    0.000    0.030    0.030 type_check.py:3(&lt;module&gt;)\n",
       "     1    0.001    0.001    0.021    0.021 __init__.py:15(&lt;module&gt;)\n",
       "     1    0.013    0.013    0.013    0.013 numeric.py:1(&lt;module&gt;)\n",
       "     1    0.000    0.000    0.009    0.009 __init__.py:6(&lt;module&gt;)\n",
       "     1    0.001    0.001    0.008    0.008 __init__.py:45(&lt;module&gt;)\n",
       "   262    0.005    0.000    0.007    0.000 function_base.py:3178(add_newdoc)\n",
       "   100    0.003    0.000    0.005    0.000 linalg.py:162(_assertFinite)\n",
       "</code></pre>\n",
       "<p>只显示出前15行。扫描cumtime列，可以容易地看出每个函数用了多少时间。如果一个函数调用了其它函数，计时并不会停止。cProfile会记录每个函数的起始和结束时间，使用它们进行计时。</p>\n",
       "<p>除了在命令行中使用，cProfile也可以在程序中使用，分析任意代码块，而不必运行新进程。Ipython的%prun和%run -p，有便捷的接口实现这个功能。%prun使用类似cProfile的命令行选项，但是可以分析任意Python语句，而不用整个py文件：</p>\n",
       "<pre><code class=\"python\">In [4]: %prun -l 7 -s cumulative run_experiment()\n",
       "         4203 function calls in 0.643 seconds\n",
       "\n",
       "Ordered by: cumulative time\n",
       "List reduced from 32 to 7 due to restriction &lt;7&gt;\n",
       "ncalls  tottime  percall  cumtime  percall filename:lineno(function)\n",
       "     1    0.000    0.000    0.643    0.643 &lt;string&gt;:1(&lt;module&gt;)\n",
       "     1    0.001    0.001    0.643    0.643 cprof_example.py:4(run_experiment)\n",
       "   100    0.003    0.000    0.583    0.006 linalg.py:702(eigvals)\n",
       "   200    0.569    0.003    0.569    0.003 {numpy.linalg.lapack_lite.dgeev}\n",
       "   100    0.058    0.001    0.058    0.001 {method 'randn'}\n",
       "   100    0.003    0.000    0.005    0.000 linalg.py:162(_assertFinite)\n",
       "   200    0.002    0.000    0.002    0.000 {method 'all' of 'numpy.ndarray'}\n",
       "</code></pre>\n",
       "<p>相似的，调用<code>%run -p -s cumulative cprof_example.py</code>有和命令行相似的作用，只是你不用离开Ipython。</p>\n",
       "<p>在Jupyter notebook中，你可以使用%%prun魔术方法（两个%）来分析一整段代码。这会弹出一个带有分析输出的独立窗口。便于快速回答一些问题，比如“为什么这段代码用了这么长时间”？</p>\n",
       "<p>使用IPython或Jupyter，还有一些其它工具可以让分析工作更便于理解。其中之一是SnakeViz（<a href=\"https://link.jianshu.com?t=https%3A%2F%2Fgithub.com%2Fjiffyclub%2Fsnakeviz%2F\" rel=\"nofollow\" target=\"_blank\">https://github.com/jiffyclub/snakeviz/</a>），它会使用d3.js产生一个分析结果的交互可视化界面。</p>\n",
       "<h2>逐行分析函数</h2>\n",
       "<p>有些情况下，用%prun（或其它基于cProfile的分析方法）得到的信息，不能获得函数执行时间的整个过程，或者结果过于复杂，加上函数名，很难进行解读。对于这种情况，有一个小库叫做line_profiler（可以通过PyPI或包管理工具获得）。它包含IPython插件，可以启用一个新的魔术函数%lprun，可以对一个函数或多个函数进行逐行分析。你可以通过修改IPython配置（查看IPython文档或本章后面的配置小节）加入下面这行，启用这个插件：</p>\n",
       "<pre><code class=\"python\"># A list of dotted module names of IPython extensions to load.\n",
       "c.TerminalIPythonApp.extensions = ['line_profiler']\n",
       "</code></pre>\n",
       "<p>你还可以运行命令：</p>\n",
       "<pre><code class=\"python\">%load_ext line_profiler\n",
       "</code></pre>\n",
       "<p>line_profiler也可以在程序中使用（查看完整文档），但是在IPython中使用是最为强大的。假设你有一个带有下面代码的模块prof_mod，做一些NumPy数组操作：</p>\n",
       "<pre><code class=\"python\">from numpy.random import randn\n",
       "\n",
       "def add_and_sum(x, y):\n",
       "    added = x + y\n",
       "    summed = added.sum(axis=1)\n",
       "    return summed\n",
       "\n",
       "def call_function():\n",
       "    x = randn(1000, 1000)\n",
       "    y = randn(1000, 1000)\n",
       "    return add_and_sum(x, y)\n",
       "</code></pre>\n",
       "<p>如果想了解add_and_sum函数的性能，%prun可以给出下面内容：</p>\n",
       "<pre><code class=\"python\">In [569]: %run prof_mod\n",
       "\n",
       "In [570]: x = randn(3000, 3000)\n",
       "\n",
       "In [571]: y = randn(3000, 3000)\n",
       "\n",
       "In [572]: %prun add_and_sum(x, y)\n",
       "         4 function calls in 0.049 seconds\n",
       "   Ordered by: internal time\n",
       "   ncalls  tottime  percall  cumtime  percall filename:lineno(function)\n",
       "        1    0.036    0.036    0.046    0.046 prof_mod.py:3(add_and_sum)\n",
       "        1    0.009    0.009    0.009    0.009 {method 'sum' of 'numpy.ndarray'}\n",
       "        1    0.003    0.003    0.049    0.049 &lt;string&gt;:1(&lt;module&gt;)\n",
       "</code></pre>\n",
       "<p>上面的做法启发性不大。激活了IPython插件line_profiler，新的命令%lprun就能用了。使用中的不同点是，我们必须告诉%lprun要分析的函数是哪个。语法是：</p>\n",
       "<pre><code class=\"python\">%lprun -f func1 -f func2 statement_to_profile\n",
       "</code></pre>\n",
       "<p>我们想分析add_and_sum，运行：</p>\n",
       "<pre><code class=\"python\">In [573]: %lprun -f add_and_sum add_and_sum(x, y)\n",
       "Timer unit: 1e-06 s\n",
       "File: prof_mod.py\n",
       "Function: add_and_sum at line 3\n",
       "Total time: 0.045936 s\n",
       "Line #      Hits         Time  Per Hit   % Time  Line Contents\n",
       "==============================================================\n",
       "     3                                           def add_and_sum(x, y):\n",
       "     4         1        36510  36510.0     79.5      added = x + y\n",
       "     5         1         9425   9425.0     20.5      summed = added.sum(axis=1)\n",
       "     6         1            1      1.0      0.0      return summed\n",
       "</code></pre>\n",
       "<p>这样就容易诠释了。我们分析了和代码语句中一样的函数。看之前的模块代码，我们可以调用call_function并对它和add_and_sum进行分析，得到一个完整的代码性能概括：</p>\n",
       "<pre><code class=\"python\">In [574]: %lprun -f add_and_sum -f call_function call_function()\n",
       "Timer unit: 1e-06 s\n",
       "File: prof_mod.py\n",
       "Function: add_and_sum at line 3\n",
       "Total time: 0.005526 s\n",
       "Line #      Hits         Time  Per Hit   % Time  Line Contents\n",
       "==============================================================\n",
       "     3                                           def add_and_sum(x, y):\n",
       "     4         1         4375   4375.0     79.2      added = x + y\n",
       "     5         1         1149   1149.0     20.8      summed = added.sum(axis=1)\n",
       "     6         1            2      2.0      0.0      return summed\n",
       "File: prof_mod.py\n",
       "Function: call_function at line 8\n",
       "Total time: 0.121016 s\n",
       "Line #      Hits         Time  Per Hit   % Time  Line Contents\n",
       "==============================================================\n",
       "     8                                           def call_function():\n",
       "     9         1        57169  57169.0     47.2      x = randn(1000, 1000)\n",
       "    10         1        58304  58304.0     48.2      y = randn(1000, 1000)\n",
       "    11         1         5543   5543.0      4.6      return add_and_sum(x, y)\n",
       "</code></pre>\n",
       "<p>我的经验是用%prun (cProfile)进行宏观分析，%lprun (line_profiler)做微观分析。最好对这两个工具都了解清楚。</p>\n",
       "<blockquote>\n",
       "<p>笔记：使用%lprun必须要指明函数名的原因是追踪每行的执行时间的损耗过多。追踪无用的函数会显著地改变结果。</p>\n",
       "</blockquote>\n",
       "<h1>B.4 使用IPython高效开发的技巧</h1>\n",
       "<p>方便快捷地写代码、调试和使用是每个人的目标。除了代码风格，流程细节（比如代码重载）也需要一些调整。</p>\n",
       "<p>因此，这一节的内容更像是门艺术而不是科学，还需要你不断的试验，以达成高效。最终，你要能结构优化代码，并且能省时省力地检查程序或函数的结果。我发现用IPython设计的软件比起命令行，要更适合工作。尤其是当发生错误时，你需要检查自己或别人写的数月或数年前写的代码的错误。</p>\n",
       "<h2>重载模块依赖</h2>\n",
       "<p>在Python中，当你输入imimport some_lib，some_lib中的代码就会被执行，所有的变量、函数和定义的引入，就会被存入到新创建的some_lib模块命名空间。当下一次输入some_lib，就会得到一个已存在的模块命名空间的引用。潜在的问题是当你%run一个脚本，它依赖于另一个模块，而这个模块做过修改，就会产生问题。假设我在test_script.py中有如下代码：</p>\n",
       "<pre><code class=\"python\">import some_lib\n",
       "\n",
       "x = 5\n",
       "y = [1, 2, 3, 4]\n",
       "result = some_lib.get_answer(x, y)\n",
       "</code></pre>\n",
       "<p>如果你运行过了%run test_script.py，然后修改了some_lib.py，下一次再执行%run test_script.py，还会得到旧版本的some_lib.py，这是因为Python模块系统的“一次加载”机制。这一点区分了Python和其它数据分析环境，比如MATLAB，它会自动传播代码修改。解决这个问题，有多种方法。第一种是在标准库importlib模块中使用reload函数：</p>\n",
       "<pre><code class=\"python\">import some_lib\n",
       "import importlib\n",
       "\n",
       "importlib.reload(some_lib)\n",
       "</code></pre>\n",
       "<p>这可以保证每次运行test_script.py时可以加载最新的some_lib.py。很明显，如果依赖更深，在各处都使用reload是非常麻烦的。对于这个问题，IPython有一个特殊的dreload函数（它不是魔术函数）重载深层的模块。如果我运行过some_lib.py，然后输入dreload(some_lib)，就会尝试重载some_lib和它的依赖。不过，这个方法不适用于所有场景，但比重启IPython强多了。</p>\n",
       "<h2>代码设计技巧</h2>\n",
       "<p>对于这单，没有简单的对策，但是有一些原则，是我在工作中发现很好用的。</p>\n",
       "<h2>保持相关对象和数据活跃</h2>\n",
       "<p>为命令行写一个下面示例中的程序是很少见的：</p>\n",
       "<pre><code class=\"python\">from my_functions import g\n",
       "\n",
       "def f(x, y):\n",
       "    return g(x + y)\n",
       "\n",
       "def main():\n",
       "    x = 6\n",
       "    y = 7.5\n",
       "    result = x + y\n",
       "\n",
       "if __name__ == '__main__':\n",
       "    main()\n",
       "</code></pre>\n",
       "<p>在IPython中运行这个程序会发生问题，你发现是什么了吗？运行之后，任何定义在main函数中的结果和对象都不能在IPython中被访问到。更好的方法是将main中的代码直接在模块的命名空间中执行（或者在<code>__name__ == '__main__':</code>中，如果你想让这个模块可以被引用）。这样，当你%rundiamante，就可以查看所有定义在main中的变量。这等价于在Jupyter notebook的代码格中定义一个顶级变量。</p>\n",
       "<h2>扁平优于嵌套</h2>\n",
       "<p>深层嵌套的代码总让我联想到洋葱皮。当测试或调试一个函数时，你需要剥多少层洋葱皮才能到达目标代码呢？“扁平优于嵌套”是Python之禅的一部分，它也适用于交互式代码开发。尽量将函数和类去耦合和模块化，有利于测试（如果你是在写单元测试）、调试和交互式使用。</p>\n",
       "<h2>克服对大文件的恐惧</h2>\n",
       "<p>如果你之前是写JAVA（或者其它类似的语言），你可能被告知要让文件简短。在多数语言中，这都是合理的建议：太长会让人感觉是坏代码，意味着重构和重组是必要的。但是，在用IPython开发时，运行10个相关联的小文件（小于100行），比起两个或三个长文件，会让你更头疼。更少的文件意味着重载更少的模块和更少的编辑时在文件中跳转。我发现维护大模块，每个模块都是紧密组织的，会更实用和Pythonic。经过方案迭代，有时会将大文件分解成小文件。</p>\n",
       "<p>我不建议极端化这条建议，那样会形成一个单独的超大文件。找到一个合理和直观的大型代码模块库和封装结构往往需要一点工作，但这在团队工作中非常重要。每个模块都应该结构紧密，并且应该能直观地找到负责每个功能领域功能和类。</p>\n",
       "<h1>B.5 IPython高级功能</h1>\n",
       "<p>要全面地使用IPython系统需要用另一种稍微不同的方式写代码，或深入IPython的配置。</p>\n",
       "<h2>让类是对IPython友好的</h2>\n",
       "<p>IPython会尽可能地在控制台美化展示每个字符串。对于许多对象，比如字典、列表和元组，内置的pprint模块可以用来美化格式。但是，在用户定义的类中，你必自己生成字符串。假设有一个下面的简单的类：</p>\n",
       "<pre><code class=\"python\">class Message:\n",
       "    def __init__(self, msg):\n",
       "        self.msg = msg\n",
       "</code></pre>\n",
       "<p>如果这么写，就会发现默认的输出不够美观：</p>\n",
       "<pre><code class=\"python\">In [576]: x = Message('I have a secret')\n",
       "\n",
       "In [577]: x\n",
       "Out[577]: &lt;__main__.Message instance at 0x60ebbd8&gt;\n",
       "</code></pre>\n",
       "<p>IPython会接收<strong>repr</strong>魔术方法返回的字符串（通过output = repr(obj)），并在控制台打印出来。因此，我们可以添加一个简单的<strong>repr</strong>方法到前面的类中，以得到一个更有用的输出：</p>\n",
       "<pre><code class=\"python\">class Message:\n",
       "    def __init__(self, msg):\n",
       "        self.msg = msg\n",
       "\n",
       "    def __repr__(self):\n",
       "        return 'Message: %s' % self.msg\n",
       "In [579]: x = Message('I have a secret')\n",
       "\n",
       "In [580]: x\n",
       "Out[580]: Message: I have a secret\n",
       "</code></pre>\n",
       "<h2>文件和配置</h2>\n",
       "<p>通过扩展配置系统，大多数IPython和Jupyter notebook的外观（颜色、提示符、行间距等等）和动作都是可以配置的。通过配置，你可以做到：</p>\n",
       "<ul>\n",
       "<li>改变颜色主题</li>\n",
       "<li>改变输入和输出提示符，或删除输出之后、输入之前的空行</li>\n",
       "<li>执行任意Python语句（例如，引入总是要使用的代码或者每次加载IPython都要运行的内容）</li>\n",
       "<li>启用IPython总是要运行的插件，比如line_profiler中的%lprun魔术函数</li>\n",
       "<li>启用Jupyter插件</li>\n",
       "<li>定义自己的魔术函数或系统别名</li>\n",
       "</ul>\n",
       "<p>IPython的配置存储在特殊的ipython_config.py文件中，它通常是在用户home目录的.ipython/文件夹中。配置是通过一个特殊文件。当你启动IPython，就会默认加载这个存储在profile_default文件夹中的默认文件。因此，在我的Linux系统，完整的IPython配置文件路径是：</p>\n",
       "<pre><code class=\"python\">/home/wesm/.ipython/profile_default/ipython_config.py\n",
       "</code></pre>\n",
       "<p>要启动这个文件，运行下面的命令：</p>\n",
       "<pre><code class=\"python\">ipython profile create\n",
       "</code></pre>\n",
       "<p>这个文件中的内容留给读者自己探索。这个文件有注释，解释了每个配置选项的作用。另一点，可以有多个配置文件。假设你想要另一个IPython配置文件，专门是为另一个应用或项目的。创建一个新的配置文件很简单，如下所示：</p>\n",
       "<pre><code class=\"python\">ipython profile create secret_project\n",
       "</code></pre>\n",
       "<p>做完之后，在新创建的profile_secret_project目录便捷配置文件，然后如下启动IPython：</p>\n",
       "<pre><code class=\"python\">$ ipython --profile=secret_project\n",
       "Python 3.5.1 | packaged by conda-forge | (default, May 20 2016, 05:22:56)\n",
       "Type \"copyright\", \"credits\" or \"license\" for more information.\n",
       "\n",
       "IPython 5.1.0 -- An enhanced Interactive Python.\n",
       "?         -&gt; Introduction and overview of IPython's features.\n",
       "%quickref -&gt; Quick reference.\n",
       "help      -&gt; Python's own help system.\n",
       "object?   -&gt; Details about 'object', use 'object??' for extra details.\n",
       "\n",
       "IPython profile: secret_project\n",
       "</code></pre>\n",
       "<p>和之前一样，IPython的文档是一个极好的学习配置文件的资源。</p>\n",
       "<p>配置Jupyter有些不同，因为你可以使用除了Python的其它语言。要创建一个类似的Jupyter配置文件，运行：</p>\n",
       "<pre><code class=\"python\">jupyter notebook --generate-config\n",
       "</code></pre>\n",
       "<p>这样会在home目录的.jupyter/jupyter_notebook_config.py创建配置文件。编辑完之后，可以将它重命名：</p>\n",
       "<pre><code class=\"python\">$ mv ~/.jupyter/jupyter_notebook_config.py ~/.jupyter/my_custom_config.py\n",
       "</code></pre>\n",
       "<p>打开Jupyter之后，你可以添加--config参数：</p>\n",
       "<pre><code class=\"python\"> jupyter notebook --config=~/.jupyter/my_custom_config.py\n",
       "</code></pre>\n",
       "<h1>B.6 总结</h1>\n",
       "<p>学习过本书中的代码案例，你的Python技能得到了一定的提升，我建议你持续学习IPython和Jupyter。因为这两个项目的设计初衷就是提高生产率的，你可能还会发现一些工具，可以让你更便捷地使用Python和计算库。</p>\n",
       "<p>你可以在nbviewer（<a href=\"https://link.jianshu.com?t=https%3A%2F%2Fnbviewer.jupyter.org%2F\" rel=\"nofollow\" target=\"_blank\">https://nbviewer.jupyter.org/</a>）上找到更多有趣的Jupyter notebooks。</p>\n",
       "<hr/>\n",
       "\n",
       "<hr/>\n",
       "<blockquote>\n",
       "<p>后记：经过三个月，总算翻译完成了这本书。工作砌码，回家码字。最大的改变是，十个手指头，除了两个大拇指和右手的小拇指，其它指尖竟然磨出了茧。读者们持续的阅读、点赞、留言、指出错误，让我感觉是和很多人一起完成一项有意义的事情。Thanks all！</p>\n",
       "</blockquote>\n",
       "<div class=\"image-package\">\n",
       "<div class=\"image-container\" style=\"max-width: 449px; max-height: 599px;\">\n",
       "<div class=\"image-container-fill\" style=\"padding-bottom: 133.41%;\"></div>\n",
       "<div class=\"image-view\" data-height=\"599\" data-width=\"449\"><img data-original-filesize=\"74920\" data-original-format=\"image/jpeg\" data-original-height=\"599\" data-original-src=\"//upload-images.jianshu.io/upload_images/7178691-260d699e695f8e81.jpg\" data-original-width=\"449\"/></div>\n",
       "</div>\n",
       "<div class=\"image-caption\"></div>\n",
       "</div>\n",
       "</div>"
      ]
     },
     "execution_count": 50,
     "metadata": {},
     "output_type": "execute_result"
    }
   ],
   "source": [
    "bsj"
   ]
  },
  {
   "cell_type": "code",
   "execution_count": 15,
   "metadata": {
    "collapsed": true
   },
   "outputs": [],
   "source": [
    "import os"
   ]
  },
  {
   "cell_type": "code",
   "execution_count": 16,
   "metadata": {
    "collapsed": false
   },
   "outputs": [
    {
     "data": {
      "text/plain": [
       "<module 'ntpath' from 'd:\\\\python35\\\\lib\\\\ntpath.py'>"
      ]
     },
     "execution_count": 16,
     "metadata": {},
     "output_type": "execute_result"
    }
   ],
   "source": [
    "os.path"
   ]
  },
  {
   "cell_type": "code",
   "execution_count": 4,
   "metadata": {
    "collapsed": true
   },
   "outputs": [],
   "source": [
    "pdf_output = PdfFileWriter()"
   ]
  },
  {
   "cell_type": "code",
   "execution_count": 14,
   "metadata": {
    "collapsed": false
   },
   "outputs": [
    {
     "name": "stderr",
     "output_type": "stream",
     "text": [
      "PdfReadWarning: Multiple definitions in dictionary at byte 0x105fd5 for key /Type [generic.py:588]\n",
      "PdfReadWarning: Multiple definitions in dictionary at byte 0x106045 for key /Type [generic.py:588]\n",
      "PdfReadWarning: Multiple definitions in dictionary at byte 0x16f96c for key /Type [generic.py:588]\n"
     ]
    }
   ],
   "source": [
    "\n",
    "with open(r'e:\\智学网-试题解析20180514生物.pdf','rb') as f:\n",
    "    pdf_input = PdfFileReader(f,strict = False)\n",
    "    pages_num = pdf_input.getNumPages()\n",
    "    for i in range(pages_num):\n",
    "        pdf_output.addPage(pdf_input.getPage(i))\n",
    "    with open(r'e:\\合并.pdf','wb') as f_o:\n",
    "        pdf_output.write(f_o)"
   ]
  },
  {
   "cell_type": "code",
   "execution_count": 15,
   "metadata": {
    "collapsed": false
   },
   "outputs": [
    {
     "name": "stderr",
     "output_type": "stream",
     "text": [
      "PdfReadWarning: Multiple definitions in dictionary at byte 0x126f11 for key /Type [generic.py:588]\n",
      "PdfReadWarning: Multiple definitions in dictionary at byte 0x166da2 for key /Type [generic.py:588]\n",
      "PdfReadWarning: Multiple definitions in dictionary at byte 0x16828b for key /Type [generic.py:588]\n"
     ]
    }
   ],
   "source": [
    "with open( r'e:\\智学网-试题解析20180514数学.pdf','rb') as f:\n",
    "    pdf_input = PdfFileReader(f,strict = False)\n",
    "    pages_num = pdf_input.getNumPages()\n",
    "    for i in range(pages_num):\n",
    "        pdf_output.addPage(pdf_input.getPage(i))\n",
    "    with open(r'e:\\合并.pdf','wb') as f_o:\n",
    "        pdf_output.write(f_o)"
   ]
  },
  {
   "cell_type": "code",
   "execution_count": 10,
   "metadata": {
    "collapsed": true
   },
   "outputs": [],
   "source": [
    "with open(r'e:\\合并.pdf','wb') as f:\n",
    "    pdf_output.write(f)"
   ]
  },
  {
   "cell_type": "code",
   "execution_count": 21,
   "metadata": {
    "collapsed": true
   },
   "outputs": [],
   "source": [
    "for i in range(13):\n",
    "    pdf_output.addPage(pdf_input.getPage(i))"
   ]
  },
  {
   "cell_type": "code",
   "execution_count": 22,
   "metadata": {
    "collapsed": false
   },
   "outputs": [],
   "source": [
    "pdf_input2 = PdfFileReader(open(r'e:\\智学网-试题解析20180514数学.pdf','rb'),strict = False)"
   ]
  },
  {
   "cell_type": "code",
   "execution_count": 23,
   "metadata": {
    "collapsed": false
   },
   "outputs": [],
   "source": [
    "for i in range(pdf_output.getNumPages()):\n",
    "    pdf_output.addPage(pdf_input2.getPage(i))"
   ]
  },
  {
   "cell_type": "code",
   "execution_count": 13,
   "metadata": {
    "collapsed": false
   },
   "outputs": [],
   "source": [
    "pdf_output.write(open(r'e:\\4.pdf','wb'))"
   ]
  }
 ],
 "metadata": {
  "kernelspec": {
   "display_name": "Python 3",
   "language": "python",
   "name": "python3"
  },
  "language_info": {
   "codemirror_mode": {
    "name": "ipython",
    "version": 3
   },
   "file_extension": ".py",
   "mimetype": "text/x-python",
   "name": "python",
   "nbconvert_exporter": "python",
   "pygments_lexer": "ipython3",
   "version": "3.5.2"
  }
 },
 "nbformat": 4,
 "nbformat_minor": 1
}
