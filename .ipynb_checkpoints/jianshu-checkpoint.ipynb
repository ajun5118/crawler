{
 "cells": [
  {
   "cell_type": "code",
   "execution_count": 42,
   "metadata": {
    "collapsed": true
   },
   "outputs": [],
   "source": [
    "import requests\n",
    "from bs4 import BeautifulSoup\n",
    "import time\n",
    "import pandas as pd\n"
   ]
  },
  {
   "cell_type": "code",
   "execution_count": 43,
   "metadata": {
    "collapsed": false
   },
   "outputs": [],
   "source": [
    "import pdfkit\n",
    "import PyPDF2"
   ]
  },
  {
   "cell_type": "code",
   "execution_count": 44,
   "metadata": {
    "collapsed": false
   },
   "outputs": [],
   "source": [
    "from PyPDF2 import PdfFileReader,PdfFileWriter"
   ]
  },
  {
   "cell_type": "code",
   "execution_count": 45,
   "metadata": {
    "collapsed": true
   },
   "outputs": [],
   "source": [
    "from os import path"
   ]
  },
  {
   "cell_type": "code",
   "execution_count": 15,
   "metadata": {
    "collapsed": true
   },
   "outputs": [],
   "source": [
    "import os"
   ]
  },
  {
   "cell_type": "code",
   "execution_count": 46,
   "metadata": {
    "collapsed": true
   },
   "outputs": [],
   "source": [
    "import time"
   ]
  },
  {
   "cell_type": "code",
   "execution_count": 47,
   "metadata": {
    "collapsed": false
   },
   "outputs": [],
   "source": [
    "save_fold = r'e:\\pandastest'"
   ]
  },
  {
   "cell_type": "code",
   "execution_count": 48,
   "metadata": {
    "collapsed": true
   },
   "outputs": [],
   "source": [
    "out_file = r'e:\\pandastest\\1.pdf'"
   ]
  },
  {
   "cell_type": "code",
   "execution_count": 49,
   "metadata": {
    "collapsed": true
   },
   "outputs": [],
   "source": [
    "headers = {\"User-Agent\":\"Mozilla/5.0 (Windows NT 10.0; Win64; x64) AppleWebKit/537.36 (KHTML, like Gecko) Chrome/53.0.2785.101 Safari/537.36\"}"
   ]
  },
  {
   "cell_type": "code",
   "execution_count": 50,
   "metadata": {
    "collapsed": true
   },
   "outputs": [],
   "source": [
    "url = \"https://www.jianshu.com/p/fb6719a18cea\""
   ]
  },
  {
   "cell_type": "code",
   "execution_count": 51,
   "metadata": {
    "collapsed": true
   },
   "outputs": [],
   "source": [
    "info_last = {'title':' 附录B 更多关于IPython的内容（完）','url':url}"
   ]
  },
  {
   "cell_type": "code",
   "execution_count": 52,
   "metadata": {
    "collapsed": true
   },
   "outputs": [],
   "source": [
    "html_template = '''\n",
    "<!DOCTYPE html>\n",
    "<html lang = 'en'>\n",
    "<head>\n",
    "    <meta charset = 'UTF-8'>\n",
    "</head>\n",
    "<body>\n",
    "{content}\n",
    "</body>\n",
    "</html>\n",
    "'''"
   ]
  },
  {
   "cell_type": "code",
   "execution_count": 53,
   "metadata": {
    "collapsed": true
   },
   "outputs": [],
   "source": [
    "options = {  \n",
    "        'page-size': 'Letter',  \n",
    "        'margin-top': '0.75in',  \n",
    "        'margin-right': '0.75in',  \n",
    "        'margin-bottom': '0.75in',  \n",
    "        'margin-left': '0.75in',  \n",
    "        'encoding': \"UTF-8\",  \n",
    "        'custom-header': [  \n",
    "            ('Accept-Encoding', 'gzip')  \n",
    "        ],  \n",
    "        'cookie': [  \n",
    "            ('cookie-name1', 'cookie-value1'),  \n",
    "            ('cookie-name2', 'cookie-value2'),  \n",
    "        ],  \n",
    "        'outline-depth': 10,  \n",
    "    }\n",
    "\n"
   ]
  },
  {
   "cell_type": "code",
   "execution_count": 54,
   "metadata": {
    "collapsed": true
   },
   "outputs": [],
   "source": [
    "def generate_url(url_html):\n",
    "    \n",
    "    '''\n",
    "    从给定的网页中产生需要解析的网址\n",
    "    '''\n",
    "    charter_info = [] #存储章节信息，包括标题及网址\n",
    "    bsj = BeautifulSoup(url_html.text,'lxml')\n",
    "    url_list = bsj.select('div.show-content-free a') #css选择，也可以作为函数参数\n",
    "    for url in url_list[:15]: #根据情况逐个处理链接，填充charter_info列表\n",
    "        info = {}\n",
    "        info['title'] =str(url.string)\n",
    "        info['url'] = url['href']\n",
    "        charter_info.append(info)\n",
    "    charter_info.append(info_last) #因为本页也含义数据，将传入的链接也放入列表\n",
    "    return charter_info"
   ]
  },
  {
   "cell_type": "code",
   "execution_count": 55,
   "metadata": {
    "collapsed": true
   },
   "outputs": [],
   "source": [
    "def get_html(url):\n",
    "    \n",
    "    \"\"\"\n",
    "    爬取html文档\n",
    "    \"\"\"\n",
    "    try:\n",
    "        html = requests.get(url,headers = headers)\n",
    "    except:\n",
    "        print('fail:',url)\n",
    "    return html"
   ]
  },
  {
   "cell_type": "code",
   "execution_count": 56,
   "metadata": {
    "collapsed": true
   },
   "outputs": [],
   "source": [
    "def get_content(html):\n",
    "    \n",
    "    \"\"\"\n",
    "    从爬取的网页中提取需要的内容，注意取消了不需要的连接\n",
    "    \"\"\"\n",
    "    bsj = BeautifulSoup(html.text,'lxml')\n",
    "    bsj = bsj.select('div.show-content-free')\n",
    "    bsj = bsj[0] #转换列表\n",
    "    bsj_a = bsj.select('a[href*=www.jianshu.com]') #以下几行剔除不需要的内容\n",
    "    bsj_a[0].parent.decompose() \n",
    "    bsj_a[-1].parent.decompose()\n",
    "    html_content = html_template.format(content = bsj) #生成完整的HTML文档，为生成pdf做准备\n",
    "    return html_content"
   ]
  },
  {
   "cell_type": "code",
   "execution_count": 57,
   "metadata": {
    "collapsed": true
   },
   "outputs": [],
   "source": [
    "def save_pdf(html,filename):\n",
    "    \"\"\"\n",
    "    保存pdf文档\n",
    "    \"\"\"\n",
    "    pdfkit.from_string(html,filename,options)"
   ]
  },
  {
   "cell_type": "code",
   "execution_count": 58,
   "metadata": {
    "collapsed": true
   },
   "outputs": [],
   "source": [
    "def merge_pdf(infnList, outfn):\n",
    "    \n",
    "    \"\"\"\n",
    "    合并PDF文档\n",
    "    参数infnList 需要合并的pdf文件列表；outfn合并后的文件名称及路径\n",
    "    \"\"\"\n",
    "    pages_total = 0\n",
    "    pdf_output = PdfFileWriter() #创建输出对象\n",
    "    for infn in infnList: \n",
    "        pdf_input = PdfFileReader(open(infn['filename'], 'rb'),strict = False)\n",
    "        # 获取 pdf 共用多少页\n",
    "        page_count = pdf_input.getNumPages()\n",
    "        \n",
    "        print(page_count)\n",
    "        for i in range(page_count):#逐页插入输出的文档\n",
    "            pdf_output.addPage(pdf_input.getPage(i))\n",
    "        pdf_output.addBookmark(infn['bookmark'],pagenum = pages_total) #生成标签\n",
    "        pages_total += page_count #计算下一个标签的位置\n",
    "    pdf_output.write(open(outfn, 'wb')) #输出\n"
   ]
  },
  {
   "cell_type": "code",
   "execution_count": 61,
   "metadata": {
    "collapsed": true
   },
   "outputs": [],
   "source": [
    "def main():\n",
    "    infnList = []\n",
    "    html = requests.get(url,headers = headers) #爬取初始文档\n",
    "    charter_info = generate_url(html)\n",
    "    for charter in charter_info:\n",
    "        html = get_html(charter['url'])\n",
    "        time.sleep(2)\n",
    "        content = get_content(html)\n",
    "        filename = path.join(save_fold,charter['title'] + '.pdf')\n",
    "        save_pdf(content,filename)\n",
    "    for chart in charter_info: #生成需要合并的文档信息，包括标签即各章节名称、文档位置及名称\n",
    "        infn = {'bookmark':chart['title'],'filename':path.join(save_fold,chart['title']+\n",
    "                                                              '.pdf')}\n",
    "        infnList.append(infn)\n",
    "    merge_pdf(infnList,out_file)"
   ]
  },
  {
   "cell_type": "code",
   "execution_count": 62,
   "metadata": {
    "collapsed": true
   },
   "outputs": [
    {
     "name": "stdout",
     "output_type": "stream",
     "text": [
      "Loading pages (1/6)\n",
      "Counting pages (2/6)                                               \n",
      "Resolving links (4/6)                                                       \n",
      "Loading headers and footers (5/6)                                           \n",
      "Printing pages (6/6)\n",
      "Done                                                                      \n",
      "Loading pages (1/6)\n",
      "Counting pages (2/6)                                               \n",
      "Resolving links (4/6)                                                       \n",
      "Loading headers and footers (5/6)                                           \n",
      "Printing pages (6/6)\n",
      "Done                                                                        \n",
      "Loading pages (1/6)\n",
      "Counting pages (2/6)                                               \n",
      "Resolving links (4/6)                                                       \n",
      "Loading headers and footers (5/6)                                           \n",
      "Printing pages (6/6)\n",
      "Done                                                                        \n",
      "Loading pages (1/6)\n",
      "Counting pages (2/6)                                               \n",
      "Resolving links (4/6)                                                       \n",
      "Loading headers and footers (5/6)                                           \n",
      "Printing pages (6/6)\n",
      "Done                                                                        \n",
      "Loading pages (1/6)\n",
      "Counting pages (2/6)                                               \n",
      "Resolving links (4/6)                                                       \n",
      "Loading headers and footers (5/6)                                           \n",
      "Printing pages (6/6)\n",
      "Done                                                                        \n",
      "Loading pages (1/6)\n",
      "Counting pages (2/6)                                               \n",
      "Resolving links (4/6)                                                       \n",
      "Loading headers and footers (5/6)                                           \n",
      "Printing pages (6/6)\n",
      "Done                                                                        \n",
      "Loading pages (1/6)\n",
      "Counting pages (2/6)                                               \n",
      "Resolving links (4/6)                                                       \n",
      "Loading headers and footers (5/6)                                           \n",
      "Printing pages (6/6)\n",
      "Done                                                                        \n",
      "Loading pages (1/6)\n",
      "Counting pages (2/6)                                               \n",
      "Resolving links (4/6)                                                       \n",
      "Loading headers and footers (5/6)                                           \n",
      "Printing pages (6/6)\n",
      "Done                                                                        \n",
      "Loading pages (1/6)\n",
      "Counting pages (2/6)                                               \n",
      "Resolving links (4/6)                                                       \n",
      "Loading headers and footers (5/6)                                           \n",
      "Printing pages (6/6)\n",
      "Done                                                                        \n",
      "Loading pages (1/6)\n",
      "Counting pages (2/6)                                               \n",
      "Resolving links (4/6)                                                       \n",
      "Loading headers and footers (5/6)                                           \n",
      "Printing pages (6/6)\n",
      "Done                                                                        \n",
      "Loading pages (1/6)\n",
      "Counting pages (2/6)                                               \n",
      "Resolving links (4/6)                                                       \n",
      "Loading headers and footers (5/6)                                           \n",
      "Printing pages (6/6)\n",
      "Done                                                                        \n",
      "Loading pages (1/6)\n",
      "Counting pages (2/6)                                               \n",
      "Resolving links (4/6)                                                       \n",
      "Loading headers and footers (5/6)                                           \n",
      "Printing pages (6/6)\n",
      "Done                                                                        \n",
      "Loading pages (1/6)\n",
      "Counting pages (2/6)                                               \n",
      "Resolving links (4/6)                                                       \n",
      "Loading headers and footers (5/6)                                           \n",
      "Printing pages (6/6)\n",
      "Done                                                                        \n",
      "Loading pages (1/6)\n",
      "Counting pages (2/6)                                               \n",
      "Resolving links (4/6)                                                       \n",
      "Loading headers and footers (5/6)                                           \n",
      "Printing pages (6/6)\n",
      "Done                                                                        \n",
      "Loading pages (1/6)\n",
      "Counting pages (2/6)                                               \n",
      "Resolving links (4/6)                                                       \n",
      "Loading headers and footers (5/6)                                           \n",
      "Printing pages (6/6)\n",
      "Done                                                                        \n",
      "Loading pages (1/6)\n",
      "Counting pages (2/6)                                               \n",
      "Resolving links (4/6)                                                       \n",
      "Loading headers and footers (5/6)                                           \n",
      "Printing pages (6/6)\n",
      "Done                                                                        \n",
      "9\n",
      "24\n",
      "24\n",
      "28\n",
      "31\n",
      "17\n",
      "21\n",
      "22\n",
      "23\n",
      "21\n",
      "34\n",
      "13\n",
      "13\n",
      "33\n",
      "24\n",
      "14\n"
     ]
    }
   ],
   "source": [
    "main()"
   ]
  }
 ],
 "metadata": {
  "kernelspec": {
   "display_name": "Python 3",
   "language": "python",
   "name": "python3"
  },
  "language_info": {
   "codemirror_mode": {
    "name": "ipython",
    "version": 3
   },
   "file_extension": ".py",
   "mimetype": "text/x-python",
   "name": "python",
   "nbconvert_exporter": "python",
   "pygments_lexer": "ipython3",
   "version": "3.5.2"
  }
 },
 "nbformat": 4,
 "nbformat_minor": 1
}
